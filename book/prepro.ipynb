{
  "nbformat": 4,
  "nbformat_minor": 0,
  "metadata": {
    "colab": {
      "name": "prepro.ipynb",
      "provenance": [],
      "collapsed_sections": [],
      "authorship_tag": "ABX9TyPymWNmRBIEouEcvC0YLZ34",
      "include_colab_link": true
    },
    "kernelspec": {
      "name": "python3",
      "display_name": "Python 3"
    }
  },
  "cells": [
    {
      "cell_type": "markdown",
      "metadata": {
        "id": "view-in-github",
        "colab_type": "text"
      },
      "source": [
        "<a href=\"https://colab.research.google.com/github/yujiimt/NLP/blob/master/book/prepro.ipynb\" target=\"_parent\"><img src=\"https://colab.research.google.com/assets/colab-badge.svg\" alt=\"Open In Colab\"/></a>"
      ]
    },
    {
      "cell_type": "code",
      "metadata": {
        "id": "Ujl7l4qby7AF",
        "colab_type": "code",
        "colab": {}
      },
      "source": [
        "import re\n",
        "\n",
        "def clean_hashtag(text):\n",
        "  cleaned_text = re.sub(r'#[a-zA-A]+', '', text)\n",
        "  return cleaned_text"
      ],
      "execution_count": 0,
      "outputs": []
    },
    {
      "cell_type": "code",
      "metadata": {
        "id": "f1nuagEMzewy",
        "colab_type": "code",
        "colab": {}
      },
      "source": [
        "text = '今度からMKDocksでドキュメント書こう。 #python'"
      ],
      "execution_count": 0,
      "outputs": []
    },
    {
      "cell_type": "code",
      "metadata": {
        "id": "zWmveQt3zuZc",
        "colab_type": "code",
        "outputId": "2e149f45-db3d-4019-aa16-c5e4ae3032a7",
        "colab": {
          "base_uri": "https://localhost:8080/",
          "height": 34
        }
      },
      "source": [
        "clean_hashtag(text)"
      ],
      "execution_count": 21,
      "outputs": [
        {
          "output_type": "execute_result",
          "data": {
            "text/plain": [
              "'今度からMKDocksでドキュメント書こう。 '"
            ]
          },
          "metadata": {
            "tags": []
          },
          "execution_count": 21
        }
      ]
    },
    {
      "cell_type": "code",
      "metadata": {
        "id": "XAElqnKRz7lj",
        "colab_type": "code",
        "outputId": "2130ad31-2910-4470-f7b7-769398803d5f",
        "colab": {
          "base_uri": "https://localhost:8080/",
          "height": 34
        }
      },
      "source": [
        "text = '機械学習やるなら #pythonがいいよね #jupyter'\n",
        "clean_hashtag(text)"
      ],
      "execution_count": 22,
      "outputs": [
        {
          "output_type": "execute_result",
          "data": {
            "text/plain": [
              "'機械学習やるなら がいいよね '"
            ]
          },
          "metadata": {
            "tags": []
          },
          "execution_count": 22
        }
      ]
    },
    {
      "cell_type": "code",
      "metadata": {
        "id": "nIcjAYEA0M7q",
        "colab_type": "code",
        "colab": {}
      },
      "source": [
        "def clean_hashtag(text):\n",
        "  cleaned_text = re.sub(r'( #[a-zA-Z]+)+$', '', text)\n",
        "  cleaned_text = re.sub(r' #([a-zA-Z]+) ', r'\\1', cleaned_text)\n",
        "  return cleaned_text"
      ],
      "execution_count": 0,
      "outputs": []
    },
    {
      "cell_type": "code",
      "metadata": {
        "id": "Q86sjzV41x9s",
        "colab_type": "code",
        "outputId": "fd91637c-68b4-40d7-f4c9-df2bff7cb2ae",
        "colab": {
          "base_uri": "https://localhost:8080/",
          "height": 34
        }
      },
      "source": [
        "text = '機械学習やるなら #python がいいよね。 #jupyter #pycon #scipy'\n",
        "clean_hashtag(text)"
      ],
      "execution_count": 32,
      "outputs": [
        {
          "output_type": "execute_result",
          "data": {
            "text/plain": [
              "'機械学習やるならpythonがいいよね。'"
            ]
          },
          "metadata": {
            "tags": []
          },
          "execution_count": 32
        }
      ]
    },
    {
      "cell_type": "code",
      "metadata": {
        "id": "ffVFlfYB2vJG",
        "colab_type": "code",
        "colab": {
          "base_uri": "https://localhost:8080/",
          "height": 258
        },
        "outputId": "8238fd49-80e8-4658-de0a-593f677c8eaf"
      },
      "source": [
        "! pip install janome\n",
        "from janome.tokenizer import Tokenizer\n",
        "text = '彼女と国立新美術館へ行った'\n",
        "t = Tokenizer()\n",
        "for token in t.tokenize(text):\n",
        "  print(token)"
      ],
      "execution_count": 37,
      "outputs": [
        {
          "output_type": "stream",
          "text": [
            "Collecting janome\n",
            "\u001b[?25l  Downloading https://files.pythonhosted.org/packages/79/f0/bd7f90806132d7d9d642d418bdc3e870cfdff5947254ea3cab27480983a7/Janome-0.3.10-py2.py3-none-any.whl (21.5MB)\n",
            "\u001b[K     |████████████████████████████████| 21.5MB 1.5MB/s \n",
            "\u001b[?25hInstalling collected packages: janome\n",
            "Successfully installed janome-0.3.10\n",
            "彼女\t名詞,代名詞,一般,*,*,*,彼女,カノジョ,カノジョ\n",
            "と\t助詞,格助詞,一般,*,*,*,と,ト,ト\n",
            "国立\t名詞,一般,*,*,*,*,国立,コクリツ,コクリツ\n",
            "新\t接頭詞,名詞接続,*,*,*,*,新,シン,シン\n",
            "美術館\t名詞,一般,*,*,*,*,美術館,ビジュツカン,ビジュツカン\n",
            "へ\t助詞,格助詞,一般,*,*,*,へ,ヘ,エ\n",
            "行っ\t動詞,自立,*,*,五段・カ行促音便,連用タ接続,行く,イッ,イッ\n",
            "た\t助動詞,*,*,*,特殊・タ,基本形,た,タ,タ\n"
          ],
          "name": "stdout"
        }
      ]
    },
    {
      "cell_type": "code",
      "metadata": {
        "id": "PzijQ6aJ7P_f",
        "colab_type": "code",
        "colab": {
          "base_uri": "https://localhost:8080/",
          "height": 34
        },
        "outputId": "2b7c5418-6b07-4f8f-f602-cbe9f3674b8a"
      },
      "source": [
        "t = Tokenizer(wakati = True)\n",
        "t.tokenize(text)"
      ],
      "execution_count": 38,
      "outputs": [
        {
          "output_type": "execute_result",
          "data": {
            "text/plain": [
              "['彼女', 'と', '国立', '新', '美術館', 'へ', '行っ', 'た']"
            ]
          },
          "metadata": {
            "tags": []
          },
          "execution_count": 38
        }
      ]
    },
    {
      "cell_type": "code",
      "metadata": {
        "id": "J-8JOk238DE0",
        "colab_type": "code",
        "colab": {
          "base_uri": "https://localhost:8080/",
          "height": 68
        },
        "outputId": "3634e68c-51bf-45f6-af51-9576bbaf4edd"
      },
      "source": [
        "from janome.analyzer import Analyzer\n",
        "from janome.tokenfilter import POSKeepFilter\n",
        "# フィルタの定義\n",
        "token_filters = [POSKeepFilter('名詞')]\n",
        "a = Analyzer(token_filters = token_filters)\n",
        "for token in a.analyze(text):\n",
        "  print(token)"
      ],
      "execution_count": 39,
      "outputs": [
        {
          "output_type": "stream",
          "text": [
            "彼女\t名詞,代名詞,一般,*,*,*,彼女,カノジョ,カノジョ\n",
            "国立\t名詞,一般,*,*,*,*,国立,コクリツ,コクリツ\n",
            "美術館\t名詞,一般,*,*,*,*,美術館,ビジュツカン,ビジュツカン\n"
          ],
          "name": "stdout"
        }
      ]
    },
    {
      "cell_type": "code",
      "metadata": {
        "id": "0Hll_RIR9Cxa",
        "colab_type": "code",
        "colab": {
          "base_uri": "https://localhost:8080/",
          "height": 34
        },
        "outputId": "69542bbf-28e2-4798-869d-055d7d091543"
      },
      "source": [
        "text = 'President Obama is speaking at the White House'\n",
        "text.lower()"
      ],
      "execution_count": 41,
      "outputs": [
        {
          "output_type": "execute_result",
          "data": {
            "text/plain": [
              "'president obama is speaking at the white house'"
            ]
          },
          "metadata": {
            "tags": []
          },
          "execution_count": 41
        }
      ]
    },
    {
      "cell_type": "code",
      "metadata": {
        "id": "tpBOFknO-fl8",
        "colab_type": "code",
        "colab": {
          "base_uri": "https://localhost:8080/",
          "height": 34
        },
        "outputId": "fcd7cd15-8b37-4a97-eaeb-6e47511f404f"
      },
      "source": [
        "text.upper()"
      ],
      "execution_count": 42,
      "outputs": [
        {
          "output_type": "execute_result",
          "data": {
            "text/plain": [
              "'PRESIDENT OBAMA IS SPEAKING AT THE WHITE HOUSE'"
            ]
          },
          "metadata": {
            "tags": []
          },
          "execution_count": 42
        }
      ]
    },
    {
      "cell_type": "code",
      "metadata": {
        "id": "wTbp5Uxp_Kun",
        "colab_type": "code",
        "colab": {
          "base_uri": "https://localhost:8080/",
          "height": 34
        },
        "outputId": "f752b238-2b6f-4018-cee2-0bf91cf71e8d"
      },
      "source": [
        "text.title()"
      ],
      "execution_count": 44,
      "outputs": [
        {
          "output_type": "execute_result",
          "data": {
            "text/plain": [
              "'President Obama Is Speaking At The White House'"
            ]
          },
          "metadata": {
            "tags": []
          },
          "execution_count": 44
        }
      ]
    },
    {
      "cell_type": "code",
      "metadata": {
        "id": "4qS982M8_Mm9",
        "colab_type": "code",
        "colab": {
          "base_uri": "https://localhost:8080/",
          "height": 34
        },
        "outputId": "4d0fedd1-bd5c-4608-b0c6-d60df71e4a51"
      },
      "source": [
        " def normalized_number(text):\n",
        "   replaced_text = re.sub(r'\\d+', '0', text)\n",
        "   return replaced_text\n",
        "\n",
        "text = '2万0689・24ドル'\n",
        "normalized_number(text)"
      ],
      "execution_count": 47,
      "outputs": [
        {
          "output_type": "execute_result",
          "data": {
            "text/plain": [
              "'0万0・0ドル'"
            ]
          },
          "metadata": {
            "tags": []
          },
          "execution_count": 47
        }
      ]
    },
    {
      "cell_type": "code",
      "metadata": {
        "id": "IxwrROAbAeqE",
        "colab_type": "code",
        "colab": {
          "base_uri": "https://localhost:8080/",
          "height": 34
        },
        "outputId": "4aee17e4-ef9c-45ad-b652-1b33ff629c5f"
      },
      "source": [
        "import urllib.request as request\n",
        "url = \"https://svn.sourceforge.jp/svnroot/slothlib/CSharp/Version1/SlothLib/NLP/Filter/StopWord/word/Japanese.txt\"\n",
        "csvfile = \"Japanese.txt\"\n",
        "\n",
        "request.urlretrieve(url,csvfile)"
      ],
      "execution_count": 8,
      "outputs": [
        {
          "output_type": "execute_result",
          "data": {
            "text/plain": [
              "('Japanese.txt', <http.client.HTTPMessage at 0x7f5d75e04a58>)"
            ]
          },
          "metadata": {
            "tags": []
          },
          "execution_count": 8
        }
      ]
    },
    {
      "cell_type": "code",
      "metadata": {
        "id": "bEoxyVYcWfkK",
        "colab_type": "code",
        "colab": {}
      },
      "source": [
        "with open(\"Japanese.txt\",'r', encoding = 'utf-8') as f :\n",
        "  stopwords = [w.strip() for w in f] \n",
        "  stopwords = set(stopwords)"
      ],
      "execution_count": 0,
      "outputs": []
    },
    {
      "cell_type": "code",
      "metadata": {
        "id": "M_BxKUzeXQPT",
        "colab_type": "code",
        "colab": {}
      },
      "source": [
        "def remove_stopwords(words, stopwords):\n",
        "  words = [w for w in words if w not in stopwords]\n",
        "  return words"
      ],
      "execution_count": 0,
      "outputs": []
    },
    {
      "cell_type": "code",
      "metadata": {
        "id": "YQjg0viNYIo5",
        "colab_type": "code",
        "colab": {
          "base_uri": "https://localhost:8080/",
          "height": 34
        },
        "outputId": "37add6a0-31b2-4bb4-97d9-358d6ae0bce3"
      },
      "source": [
        "from janome.tokenizer import Tokenizer\n",
        "t = Tokenizer(wakati = True)\n",
        "text = 'りんごをいくつか買う'\n",
        "words = t.tokenize(text)\n",
        "words"
      ],
      "execution_count": 14,
      "outputs": [
        {
          "output_type": "execute_result",
          "data": {
            "text/plain": [
              "['りんご', 'を', 'いくつ', 'か', '買う']"
            ]
          },
          "metadata": {
            "tags": []
          },
          "execution_count": 14
        }
      ]
    },
    {
      "cell_type": "code",
      "metadata": {
        "id": "kW5d9fVsYz49",
        "colab_type": "code",
        "colab": {
          "base_uri": "https://localhost:8080/",
          "height": 34
        },
        "outputId": "48db0997-d5ac-4c52-9377-15374e420f97"
      },
      "source": [
        "remove_stopwords(words, stopwords)"
      ],
      "execution_count": 15,
      "outputs": [
        {
          "output_type": "execute_result",
          "data": {
            "text/plain": [
              "['りんご', 'を', 'か', '買う']"
            ]
          },
          "metadata": {
            "tags": []
          },
          "execution_count": 15
        }
      ]
    },
    {
      "cell_type": "code",
      "metadata": {
        "id": "hFPT2F5LZXXb",
        "colab_type": "code",
        "colab": {
          "base_uri": "https://localhost:8080/",
          "height": 34
        },
        "outputId": "fd543f45-abce-44a1-c622-35ca2ceb2524"
      },
      "source": [
        "url = 'https://s3-ap-northeast-1.amazonaws.com/dev.tech-sketch.jp/chakki/public/ja.text8.zip'\n",
        "file = \"ja.text9.zip\"\n",
        "\n",
        "request.urlretrieve(url, file)"
      ],
      "execution_count": 19,
      "outputs": [
        {
          "output_type": "execute_result",
          "data": {
            "text/plain": [
              "('ja.text9.zip', <http.client.HTTPMessage at 0x7f5d6ef62400>)"
            ]
          },
          "metadata": {
            "tags": []
          },
          "execution_count": 19
        }
      ]
    },
    {
      "cell_type": "code",
      "metadata": {
        "id": "m69V3SHqayDH",
        "colab_type": "code",
        "colab": {
          "base_uri": "https://localhost:8080/",
          "height": 51
        },
        "outputId": "1f8a4c20-b810-4e05-cec7-dbd28ca2c186"
      },
      "source": [
        "!unzip ja.text9.zip"
      ],
      "execution_count": 20,
      "outputs": [
        {
          "output_type": "stream",
          "text": [
            "Archive:  ja.text9.zip\n",
            "  inflating: ja.text8                \n"
          ],
          "name": "stdout"
        }
      ]
    },
    {
      "cell_type": "code",
      "metadata": {
        "id": "6U3IvfwIe_bM",
        "colab_type": "code",
        "colab": {}
      },
      "source": [
        "with open('ja.text8', 'r', encoding = 'utf-8') as f:\n",
        "  text = f.read()\n",
        "  words = text.split()"
      ],
      "execution_count": 0,
      "outputs": []
    },
    {
      "cell_type": "code",
      "metadata": {
        "id": "DKuxRhS_fZgx",
        "colab_type": "code",
        "colab": {
          "base_uri": "https://localhost:8080/",
          "height": 187
        },
        "outputId": "455f2592-80d8-4a45-8f47-a8f05dfa44ea"
      },
      "source": [
        "from collections import Counter\n",
        "fdist = Counter(words)\n",
        "fdist.most_common(n=10)"
      ],
      "execution_count": 22,
      "outputs": [
        {
          "output_type": "execute_result",
          "data": {
            "text/plain": [
              "[('の', 828585),\n",
              " ('、', 785716),\n",
              " ('。', 532921),\n",
              " ('に', 527014),\n",
              " ('は', 488009),\n",
              " ('を', 423115),\n",
              " ('た', 421908),\n",
              " ('が', 353221),\n",
              " ('で', 350821),\n",
              " ('て', 259995)]"
            ]
          },
          "metadata": {
            "tags": []
          },
          "execution_count": 22
        }
      ]
    },
    {
      "cell_type": "code",
      "metadata": {
        "id": "NjalrPuVgq7S",
        "colab_type": "code",
        "colab": {
          "base_uri": "https://localhost:8080/",
          "height": 1000
        },
        "outputId": "72b7d68e-efec-4b81-f154-df8be6dde48c"
      },
      "source": [
        "remove_stopwords(fdist, stopwords)"
      ],
      "execution_count": 23,
      "outputs": [
        {
          "output_type": "execute_result",
          "data": {
            "text/plain": [
              "['ちょん',\n",
              " '掛け',\n",
              " '（',\n",
              " 'がけ',\n",
              " '、',\n",
              " '丁',\n",
              " '斧',\n",
              " '・',\n",
              " '手斧',\n",
              " 'と',\n",
              " 'も',\n",
              " '表記',\n",
              " '）',\n",
              " 'は',\n",
              " '相撲',\n",
              " 'の',\n",
              " '決まり',\n",
              " 'で',\n",
              " 'ある',\n",
              " '。',\n",
              " '足',\n",
              " '踵',\n",
              " 'を',\n",
              " '相手',\n",
              " 'に',\n",
              " '後方',\n",
              " '捻っ',\n",
              " 'て',\n",
              " '倒す',\n",
              " '技',\n",
              " 'ちょう',\n",
              " 'な',\n",
              " 'かける',\n",
              " '仕草',\n",
              " '似',\n",
              " 'いる',\n",
              " 'が',\n",
              " '訛っ',\n",
              " 'なっ',\n",
              " 'た',\n",
              " 'いわ',\n",
              " 'れる',\n",
              " '柔道',\n",
              " '小内',\n",
              " '刈',\n",
              " 'ほぼ',\n",
              " '動き',\n",
              " '見せる',\n",
              " '1944',\n",
              " '1',\n",
              " '場所',\n",
              " '6',\n",
              " '36',\n",
              " '連勝',\n",
              " '横綱',\n",
              " '双葉',\n",
              " '山',\n",
              " '枩',\n",
              " 'ノ',\n",
              " '里',\n",
              " '決め',\n",
              " '金星',\n",
              " '挙げ',\n",
              " '最近',\n",
              " '2014',\n",
              " '11',\n",
              " '7',\n",
              " '常幸',\n",
              " '龍',\n",
              " '照',\n",
              " '富士',\n",
              " '2012',\n",
              " '5',\n",
              " '朝',\n",
              " '赤',\n",
              " '若',\n",
              " 'この',\n",
              " '勝利',\n",
              " 'し',\n",
              " '両',\n",
              " '12',\n",
              " '天',\n",
              " '鎧',\n",
              " '鵬',\n",
              " '双',\n",
              " '大竜',\n",
              " '2013',\n",
              " '2',\n",
              " '鬼',\n",
              " '嵐',\n",
              " '丹',\n",
              " '蔵',\n",
              " '幕下',\n",
              " '旭',\n",
              " '大星',\n",
              " '得意',\n",
              " 'おり',\n",
              " '10',\n",
              " '。甲',\n",
              " '越',\n",
              " '同盟',\n",
              " 'こう',\n",
              " 'え',\n",
              " 'つどう',\n",
              " 'めい',\n",
              " '天正',\n",
              " '1579',\n",
              " '甲斐',\n",
              " '戦国',\n",
              " '大名',\n",
              " '武田',\n",
              " '勝頼',\n",
              " '越後',\n",
              " '上杉',\n",
              " '景勝',\n",
              " '成立',\n",
              " '3',\n",
              " '1582',\n",
              " '起こっ',\n",
              " '甲州',\n",
              " '征伐',\n",
              " 'まで',\n",
              " '軍事',\n",
              " 'として',\n",
              " '機能',\n",
              " '時代',\n",
              " '後期',\n",
              " 'や',\n",
              " '北条',\n",
              " '氏',\n",
              " '相模',\n",
              " '東国',\n",
              " 'における',\n",
              " '諸',\n",
              " '勢力',\n",
              " '影響',\n",
              " '及ぼし',\n",
              " '守護',\n",
              " '信虎',\n",
              " '国内',\n",
              " '統一',\n",
              " '達成',\n",
              " 'さ',\n",
              " '扇谷',\n",
              " '山内',\n",
              " '結び',\n",
              " '敵対',\n",
              " '伊勢',\n",
              " '駿河',\n",
              " '今川',\n",
              " '抗争',\n",
              " '大',\n",
              " '永',\n",
              " '4',\n",
              " '1507',\n",
              " 'とともに',\n",
              " '関東',\n",
              " '遠征',\n",
              " '行う',\n",
              " '帰国',\n",
              " 'する',\n",
              " '氏綱',\n",
              " '一時',\n",
              " '和睦',\n",
              " '1508',\n",
              " '攻撃',\n",
              " '長尾',\n",
              " '為景',\n",
              " '同調',\n",
              " 'に対して',\n",
              " '使者',\n",
              " '領内',\n",
              " '通過',\n",
              " '申し出',\n",
              " '同年',\n",
              " 'に対する',\n",
              " '贈答',\n",
              " '求める',\n",
              " '「',\n",
              " '遺恨',\n",
              " '」',\n",
              " '拒絶',\n",
              " 'により',\n",
              " '破綻',\n",
              " 'ただし',\n",
              " '接触',\n",
              " 'られ',\n",
              " 'ない',\n",
              " '配慮',\n",
              " '示し',\n",
              " '考え',\n",
              " '天文',\n",
              " '年間',\n",
              " '信濃',\n",
              " '諏訪',\n",
              " '郡',\n",
              " '9',\n",
              " '1540',\n",
              " '村上',\n",
              " '小県',\n",
              " 'へ',\n",
              " '侵攻',\n",
              " '1541',\n",
              " '25',\n",
              " '海野',\n",
              " '平',\n",
              " '戦い',\n",
              " 'において',\n",
              " '棟',\n",
              " '綱',\n",
              " '駆逐',\n",
              " '上野',\n",
              " '亡命',\n",
              " '管領',\n",
              " '憲政',\n",
              " '頼っ',\n",
              " '佐久',\n",
              " '出兵',\n",
              " '悪化',\n",
              " '撤兵',\n",
              " '嫡男',\n",
              " '晴信',\n",
              " '信玄',\n",
              " '追放',\n",
              " '事件',\n",
              " '発生',\n",
              " 'この間',\n",
              " '頼',\n",
              " '重',\n",
              " '独断',\n",
              " '領土',\n",
              " '割譲',\n",
              " '家督',\n",
              " '継承',\n",
              " '盟約',\n",
              " '違反',\n",
              " '攻め',\n",
              " 'さらに',\n",
              " '外交',\n",
              " '方針',\n",
              " '転換',\n",
              " '氏康',\n",
              " '義元',\n",
              " '甲',\n",
              " '相',\n",
              " '駿',\n",
              " '開始',\n",
              " '一帯',\n",
              " '領国',\n",
              " '進める',\n",
              " '16',\n",
              " '1547',\n",
              " '8',\n",
              " '志賀',\n",
              " '城',\n",
              " '攻',\n",
              " 'に際して',\n",
              " '派遣',\n",
              " '援軍',\n",
              " '小田',\n",
              " '井原',\n",
              " '撃破',\n",
              " '小田井',\n",
              " '原',\n",
              " '北信濃',\n",
              " '義清',\n",
              " '小笠原',\n",
              " '長',\n",
              " '22',\n",
              " '葛尾',\n",
              " '長野',\n",
              " '坂城',\n",
              " '景虎',\n",
              " '謙信',\n",
              " 'こうして',\n",
              " '北信',\n",
              " '地域',\n",
              " '衆',\n",
              " '後援',\n",
              " '対立',\n",
              " '巡る',\n",
              " '川中島',\n",
              " '展開',\n",
              " 'れ',\n",
              " '一方',\n",
              " '代',\n",
              " '北関東',\n",
              " '職',\n",
              " '対決',\n",
              " '正面',\n",
              " '作戦',\n",
              " 'い',\n",
              " '禄',\n",
              " '1561',\n",
              " '契機',\n",
              " '収束',\n",
              " '対外',\n",
              " 'せる',\n",
              " '1569',\n",
              " '解消',\n",
              " '招き',\n",
              " '三河',\n",
              " '徳川',\n",
              " '家康',\n",
              " '挟撃',\n",
              " '受け',\n",
              " '一族',\n",
              " '異説',\n",
              " 'あり',\n",
              " '三郎',\n",
              " '養子',\n",
              " 'せ',\n",
              " 'ず',\n",
              " '東上野',\n",
              " '続い',\n",
              " '尾張',\n",
              " '織田',\n",
              " '信長',\n",
              " '室町',\n",
              " '幕府',\n",
              " '15',\n",
              " '将軍',\n",
              " '足利',\n",
              " '義昭',\n",
              " '仲介',\n",
              " '和',\n",
              " '与',\n",
              " '締結',\n",
              " '強化',\n",
              " '模索',\n",
              " '対抗',\n",
              " '続ける',\n",
              " '没',\n",
              " '亀',\n",
              " '1571',\n",
              " '氏政',\n",
              " '再び',\n",
              " 'より',\n",
              " '不可侵',\n",
              " '条約',\n",
              " '領',\n",
              " '認知',\n",
              " '1573',\n",
              " '死去',\n",
              " '相続',\n",
              " '踏襲',\n",
              " '遠江',\n",
              " '回復',\n",
              " '目指し',\n",
              " 'しかし',\n",
              " '1575',\n",
              " '長篠',\n",
              " '連合',\n",
              " '軍',\n",
              " '敗北',\n",
              " '拡大',\n",
              " '動揺',\n",
              " '招い',\n",
              " '妹',\n",
              " '桂',\n",
              " '林',\n",
              " '院',\n",
              " '殿',\n",
              " '正室',\n",
              " '迎え',\n",
              " '翌',\n",
              " '1576',\n",
              " 'による',\n",
              " '包囲',\n",
              " '網',\n",
              " '応じる',\n",
              " '気配',\n",
              " '見せ',\n",
              " '天下',\n",
              " '過程',\n",
              " '強大',\n",
              " '意図',\n",
              " 'あっ',\n",
              " '須藤',\n",
              " '茂樹',\n",
              " '柴',\n",
              " '辻',\n",
              " '俊六',\n",
              " '1578',\n",
              " '急死',\n",
              " '後継',\n",
              " '巡り',\n",
              " '御館',\n",
              " '乱',\n",
              " '実家',\n",
              " '要請',\n",
              " '下旬',\n",
              " '一門',\n",
              " '信',\n",
              " '豊',\n",
              " '国境',\n",
              " '応じ',\n",
              " '両者',\n",
              " '調停',\n",
              " '試み',\n",
              " '側',\n",
              " '初頭',\n",
              " '行わ',\n",
              " '同月',\n",
              " '自ら',\n",
              " '海津',\n",
              " '着陣',\n",
              " '誓詞',\n",
              " '交わし',\n",
              " '謝礼',\n",
              " '金品',\n",
              " '受け取っ',\n",
              " '春日',\n",
              " '山城',\n",
              " '迫る',\n",
              " '不首尾',\n",
              " '終わり',\n",
              " '起請文',\n",
              " '与え',\n",
              " '菊',\n",
              " '姫',\n",
              " '輿入れ',\n",
              " '条件',\n",
              " '上旬',\n",
              " '甲府',\n",
              " '帰還',\n",
              " '改めて',\n",
              " '援助',\n",
              " '妻有',\n",
              " '兵',\n",
              " '送っ',\n",
              " '婚約',\n",
              " '行い',\n",
              " '出陣',\n",
              " '『',\n",
              " '陽',\n",
              " '鑑',\n",
              " '』',\n",
              " '拠れ',\n",
              " 'ば',\n",
              " '婚礼',\n",
              " '多額',\n",
              " '送ら',\n",
              " 'いう',\n",
              " '追い込ま',\n",
              " '自害',\n",
              " '交渉',\n",
              " '主',\n",
              " '親族',\n",
              " '家老',\n",
              " '層',\n",
              " '信越',\n",
              " '配置',\n",
              " '虎',\n",
              " '高坂',\n",
              " '昌信',\n",
              " '信達',\n",
              " '親子',\n",
              " '譜代',\n",
              " '小山田',\n",
              " '茂',\n",
              " '側近',\n",
              " '跡部',\n",
              " '勝',\n",
              " '資',\n",
              " '長坂',\n",
              " '光',\n",
              " '堅',\n",
              " '居住',\n",
              " '長井',\n",
              " '昌秀',\n",
              " 'ら',\n",
              " '取次',\n",
              " '携わっ',\n",
              " '際し',\n",
              " '家中',\n",
              " '家格',\n",
              " '高い',\n",
              " '当主',\n",
              " '組み合わせ',\n",
              " '指摘',\n",
              " '儀礼',\n",
              " '実務',\n",
              " '分担',\n",
              " '担当',\n",
              " '丸島',\n",
              " '2000',\n",
              " 'に関する',\n",
              " '発給',\n",
              " '文書',\n",
              " '残さ',\n",
              " '家伝',\n",
              " '散逸',\n",
              " '残存',\n",
              " '少なく',\n",
              " 'に関して',\n",
              " '不明',\n",
              " '多い',\n",
              " '正式',\n",
              " '書状',\n",
              " '宛',\n",
              " '以外',\n",
              " '全て',\n",
              " '斎藤',\n",
              " '新発田',\n",
              " '敦',\n",
              " '竹俣',\n",
              " '慶',\n",
              " 'いずれ',\n",
              " 'か',\n",
              " 'あるいは',\n",
              " '名宛',\n",
              " '当時',\n",
              " '政権',\n",
              " '中枢',\n",
              " '担っ',\n",
              " '務め',\n",
              " '敗',\n",
              " '死',\n",
              " '切',\n",
              " '結ん',\n",
              " '接する',\n",
              " '支配',\n",
              " '氏邦',\n",
              " '弟',\n",
              " '対峙',\n",
              " '対',\n",
              " '内乱',\n",
              " '深刻',\n",
              " '後遺症',\n",
              " '不安定',\n",
              " '行動',\n",
              " '意味',\n",
              " '手合',\n",
              " '十分',\n",
              " '行え',\n",
              " '断絶',\n",
              " '手筋',\n",
              " 'もちかけ',\n",
              " '先例',\n",
              " '常陸',\n",
              " '佐竹',\n",
              " '1580',\n",
              " '相互',\n",
              " '行っ',\n",
              " '確認',\n",
              " '甲佐',\n",
              " '里見',\n",
              " '中小',\n",
              " 'なお',\n",
              " '同じく',\n",
              " '軸',\n",
              " '家臣',\n",
              " '真田',\n",
              " '昌幸',\n",
              " '沼田',\n",
              " '攻略',\n",
              " '命じ',\n",
              " '陥落',\n",
              " '更に',\n",
              " 'に対し',\n",
              " '越中',\n",
              " '使僧',\n",
              " '一定',\n",
              " 'ものの',\n",
              " '江和',\n",
              " '義重',\n",
              " '懸念',\n",
              " '進捗',\n",
              " '本格',\n",
              " '反乱',\n",
              " '余裕',\n",
              " 'なかっ',\n",
              " 'でき',\n",
              " '滅亡',\n",
              " '末',\n",
              " '本能寺',\n",
              " '変',\n",
              " '上方',\n",
              " '横死',\n",
              " '空白',\n",
              " '地帯',\n",
              " '遺',\n",
              " '壬',\n",
              " '午',\n",
              " '市河',\n",
              " '遺臣',\n",
              " '一部',\n",
              " '庇護',\n",
              " '旧',\n",
              " '接収',\n",
              " '掌握',\n",
              " '豊臣',\n",
              " '服属',\n",
              " '関ヶ原',\n",
              " '経',\n",
              " '近世',\n",
              " '存続',\n",
              " '。品種',\n",
              " '改良',\n",
              " 'ひんし',\n",
              " 'ゅかいりょう',\n",
              " '栽培',\n",
              " '植物',\n",
              " '家畜',\n",
              " '人間',\n",
              " '有用',\n",
              " '品種',\n",
              " '作り出す',\n",
              " '具体',\n",
              " '手法',\n",
              " '人為',\n",
              " '選択',\n",
              " '交雑',\n",
              " '突然変異',\n",
              " '用いる',\n",
              " '公的',\n",
              " '農業',\n",
              " '試験場',\n",
              " '畜産試験場',\n",
              " '進め',\n",
              " '穀物',\n",
              " 'メジャー',\n",
              " '代表',\n",
              " '民間',\n",
              " '企業',\n",
              " 'ビジネス',\n",
              " '参入',\n",
              " '育成',\n",
              " '利用',\n",
              " '動物',\n",
              " '多様',\n",
              " '野菜',\n",
              " 'たいてい',\n",
              " '野生',\n",
              " '大きく',\n",
              " '異に',\n",
              " '一般',\n",
              " '変化',\n",
              " '部分',\n",
              " 'その',\n",
              " '無自覚',\n",
              " '行なっ',\n",
              " 'き',\n",
              " '歴史',\n",
              " 'わたる',\n",
              " 'おそらくは',\n",
              " 'その間',\n",
              " '有利',\n",
              " '特徴',\n",
              " '選び',\n",
              " '優先',\n",
              " '育てる',\n",
              " '思わ',\n",
              " '小麦',\n",
              " 'について',\n",
              " '種',\n",
              " '原種',\n",
              " '生じ',\n",
              " '雑種',\n",
              " '確かめ',\n",
              " '恐らく',\n",
              " '偶然',\n",
              " '特に',\n",
              " '選ん',\n",
              " '育て',\n",
              " '経過',\n",
              " '近年',\n",
              " 'なる',\n",
              " '意識',\n",
              " 'なり',\n",
              " '目的',\n",
              " '持っ',\n",
              " '行なわ',\n",
              " '基礎',\n",
              " '知識',\n",
              " '遺伝',\n",
              " '法則',\n",
              " '追究',\n",
              " 'メンデル',\n",
              " '発見',\n",
              " '要求',\n",
              " '背景',\n",
              " '基本',\n",
              " '形質',\n",
              " 'もつ',\n",
              " '個体',\n",
              " '繁殖',\n",
              " '時に',\n",
              " '出現',\n",
              " '有力',\n",
              " '対象',\n",
              " '得る',\n",
              " 'また',\n",
              " '交配',\n",
              " 'よく',\n",
              " '前史',\n",
              " '置い',\n",
              " 'かつ',\n",
              " '次第に',\n",
              " '持つ',\n",
              " '言わ',\n",
              " '結果',\n",
              " '優れ',\n",
              " '遺伝子',\n",
              " '繰り返し',\n",
              " 'ゆけ',\n",
              " '段階',\n",
              " '存在',\n",
              " '最も',\n",
              " '性質',\n",
              " '合わせ',\n",
              " '得',\n",
              " 'られる',\n",
              " '純系',\n",
              " '現存',\n",
              " '範囲',\n",
              " '超え',\n",
              " '突然',\n",
              " '変異',\n",
              " 'によって',\n",
              " 'かも',\n",
              " '知れ',\n",
              " '世代',\n",
              " '表れ',\n",
              " '期待',\n",
              " 'できる',\n",
              " 'めったに',\n",
              " '起き',\n",
              " '飼育',\n",
              " '自然',\n",
              " '比べ',\n",
              " '生存',\n",
              " '競争',\n",
              " '激しく',\n",
              " '操作',\n",
              " 'ので',\n",
              " '変わり者',\n",
              " '拾い',\n",
              " '出す',\n",
              " 'たやすく',\n",
              " '弱い',\n",
              " '保護',\n",
              " '可能',\n",
              " 'もっとも',\n",
              " '生物',\n",
              " '野外',\n",
              " 'ひ弱',\n",
              " '現在',\n",
              " '誘発',\n",
              " '滅多',\n",
              " '人工',\n",
              " '成功',\n",
              " '新しい',\n",
              " '生まれる',\n",
              " 'コムギ',\n",
              " '過去',\n",
              " '推定',\n",
              " 'かなり',\n",
              " '古い',\n",
              " '産物',\n",
              " 'あろ',\n",
              " 'う',\n",
              " '現代',\n",
              " 'たとえば',\n",
              " '洋',\n",
              " 'ラン',\n",
              " '広く',\n",
              " '属',\n",
              " '作ら',\n",
              " 'いわゆる',\n",
              " 'カトレア',\n",
              " '近',\n",
              " '縁',\n",
              " '多数',\n",
              " '含ま',\n",
              " '新',\n",
              " '作出',\n",
              " '余談',\n",
              " 'だ',\n",
              " '工程',\n",
              " '進化',\n",
              " '解釈',\n",
              " '同等',\n",
              " '言える',\n",
              " '優良',\n",
              " 'いく',\n",
              " 'スピード',\n",
              " '起こる',\n",
              " '分化',\n",
              " '至ら',\n",
              " '根本',\n",
              " '生殖',\n",
              " '短い',\n",
              " '簡単',\n",
              " 'その他',\n",
              " '子孫',\n",
              " '薄れ',\n",
              " 'たり',\n",
              " '消失',\n",
              " 'しまっ',\n",
              " 'もしくは',\n",
              " 'そのもの',\n",
              " '行なえ',\n",
              " '残せ',\n",
              " '長期',\n",
              " '一環',\n",
              " '奇形',\n",
              " '先天',\n",
              " '障害',\n",
              " 'みなさ',\n",
              " '単位',\n",
              " 'かけ',\n",
              " '同士',\n",
              " '固定',\n",
              " '生息',\n",
              " '分断',\n",
              " '詳細',\n",
              " '項',\n",
              " '参照',\n",
              " '食料',\n",
              " '収穫',\n",
              " '量',\n",
              " '耐病',\n",
              " '食味',\n",
              " '向上',\n",
              " 'イネ',\n",
              " 'ムギ',\n",
              " 'トウモロコシ',\n",
              " 'イモ',\n",
              " '盛ん',\n",
              " '望ま',\n",
              " '特性',\n",
              " '耐寒',\n",
              " '耐暑',\n",
              " '温暖',\n",
              " '対策',\n",
              " '耐虫',\n",
              " '減',\n",
              " '肥',\n",
              " '多',\n",
              " '窒素',\n",
              " '過多',\n",
              " '密植',\n",
              " '矮性',\n",
              " '競走',\n",
              " '能力',\n",
              " '肉質',\n",
              " '馬',\n",
              " '肉牛',\n",
              " '例えば',\n",
              " 'サラブレッド',\n",
              " 'アラブ',\n",
              " '比較',\n",
              " '走',\n",
              " '大幅',\n",
              " '限定',\n",
              " 'ドバイカハイラクラシック',\n",
              " 'ダート',\n",
              " 'm',\n",
              " '走破',\n",
              " 'タイム',\n",
              " 'ほど',\n",
              " '同日',\n",
              " '同',\n",
              " 'ドバイ',\n",
              " 'ワールドカップ',\n",
              " '前後',\n",
              " '速く',\n",
              " 'ごく',\n",
              " '距離',\n",
              " 'なら',\n",
              " '時速',\n",
              " '80',\n",
              " 'km',\n",
              " 'という',\n",
              " '体高',\n",
              " '約',\n",
              " 'cm',\n",
              " '体重',\n",
              " '%',\n",
              " '増加',\n",
              " '体型',\n",
              " '初期',\n",
              " 'イギリス',\n",
              " '世界',\n",
              " '各地',\n",
              " '合計',\n",
              " '300',\n",
              " '競馬',\n",
              " 'を通じて',\n",
              " '続け',\n",
              " 'ペット',\n",
              " '外見',\n",
              " '性格',\n",
              " 'イヌ',\n",
              " 'ネコ',\n",
              " '防除',\n",
              " '農薬',\n",
              " '昆虫',\n",
              " 'チャールズ',\n",
              " 'ダーウィン',\n",
              " 'ハト',\n",
              " '発想',\n",
              " '。エステルハージ',\n",
              " '宮殿',\n",
              " 'エステルハージ',\n",
              " 'きゅう',\n",
              " 'でん',\n",
              " '）ニコライ',\n",
              " 'ステファノヴィッチ・グミリョフ',\n",
              " 'ロシア',\n",
              " '語',\n",
              " ':',\n",
              " 'никола',\n",
              " '́',\n",
              " 'й',\n",
              " 'степа',\n",
              " 'нович',\n",
              " 'гумилёв',\n",
              " '英語',\n",
              " 'nikolay',\n",
              " 'stepanovich',\n",
              " 'gumilev',\n",
              " '1886',\n",
              " '新暦',\n",
              " '-',\n",
              " '1921',\n",
              " 'ソ連',\n",
              " '現',\n",
              " 'クロンシュタット',\n",
              " '出身',\n",
              " '詩人',\n",
              " 'アクメ',\n",
              " 'イズム',\n",
              " '指導',\n",
              " '名高い',\n",
              " '妻',\n",
              " '同国',\n",
              " 'アンナ・アフマートヴァ',\n",
              " '子供',\n",
              " '民俗',\n",
              " '学者',\n",
              " '人類',\n",
              " 'レフ・グミリョフ',\n",
              " '1903',\n",
              " 'グミリョフ',\n",
              " 'ツァールスコエ・セロー',\n",
              " '通う',\n",
              " '中学生',\n",
              " '知り合う',\n",
              " '当初',\n",
              " '熱烈',\n",
              " 'プロポーズ',\n",
              " 'アフマートヴァ',\n",
              " '無視',\n",
              " '絶望',\n",
              " '自殺',\n",
              " '未遂',\n",
              " '起こし',\n",
              " '最終',\n",
              " '1910',\n",
              " '渋々',\n",
              " '結婚',\n",
              " '至っ',\n",
              " '大学生',\n",
              " 'ペテルブルク',\n",
              " '大学',\n",
              " 'パリ',\n",
              " '学び',\n",
              " '新婚',\n",
              " '旅行',\n",
              " '訪れ',\n",
              " 'フランス',\n",
              " '長く',\n",
              " '住む',\n",
              " '戻っ',\n",
              " '残し',\n",
              " 'アフリカ',\n",
              " '旅立っ',\n",
              " '1912',\n",
              " '息子',\n",
              " 'だが',\n",
              " '妻子',\n",
              " '家庭',\n",
              " '事実',\n",
              " '崩壊',\n",
              " '大戦',\n",
              " '義勇',\n",
              " '参戦',\n",
              " '反',\n",
              " '革命',\n",
              " '陰謀',\n",
              " '加わっ',\n",
              " '銃殺',\n",
              " '作品',\n",
              " '男性',\n",
              " '明晰',\n",
              " 'イメージ',\n",
              " '異国',\n",
              " ...]"
            ]
          },
          "metadata": {
            "tags": []
          },
          "execution_count": 23
        }
      ]
    },
    {
      "cell_type": "code",
      "metadata": {
        "id": "1dzfp1s_h82Y",
        "colab_type": "code",
        "colab": {}
      },
      "source": [
        "UNK = '<UKK>'\n",
        "PAD = '<PAD>'\n",
        "vocab = {PAD: 0, UNK: 1}\n",
        "for word, _ in fdist.most_common():\n",
        "  vocab[word] = len(vocab)"
      ],
      "execution_count": 0,
      "outputs": []
    },
    {
      "cell_type": "code",
      "metadata": {
        "id": "QHi0eKrdi-BZ",
        "colab_type": "code",
        "colab": {
          "base_uri": "https://localhost:8080/",
          "height": 34
        },
        "outputId": "73f4e05f-a153-4ccd-f558-31e917b7443e"
      },
      "source": [
        "words = ['私','は','元気']\n",
        "words_ids = [vocab.get(w, vocab[UNK]) for w in words]\n",
        "print(words_ids)"
      ],
      "execution_count": 28,
      "outputs": [
        {
          "output_type": "stream",
          "text": [
            "[1151, 6, 7901]\n"
          ],
          "name": "stdout"
        }
      ]
    },
    {
      "cell_type": "code",
      "metadata": {
        "id": "yRr5McCXjv_H",
        "colab_type": "code",
        "colab": {
          "base_uri": "https://localhost:8080/",
          "height": 68
        },
        "outputId": "e35495ac-036b-4889-bf90-2e3470c8197e"
      },
      "source": [
        "from tensorflow.keras.preprocessing.sequence import pad_sequences\n",
        "sequence = [[1,2],[3,4,5],[6,7,8,9]]\n",
        "pad_sequences(sequence)"
      ],
      "execution_count": 29,
      "outputs": [
        {
          "output_type": "execute_result",
          "data": {
            "text/plain": [
              "array([[0, 0, 1, 2],\n",
              "       [0, 3, 4, 5],\n",
              "       [6, 7, 8, 9]], dtype=int32)"
            ]
          },
          "metadata": {
            "tags": []
          },
          "execution_count": 29
        }
      ]
    },
    {
      "cell_type": "code",
      "metadata": {
        "id": "5Oj9g-bKkx61",
        "colab_type": "code",
        "colab": {
          "base_uri": "https://localhost:8080/",
          "height": 68
        },
        "outputId": "fdf3ad64-ea43-4498-f5ba-6fd7705012ea"
      },
      "source": [
        "pad_sequences(sequence, padding = 'post')"
      ],
      "execution_count": 31,
      "outputs": [
        {
          "output_type": "execute_result",
          "data": {
            "text/plain": [
              "array([[1, 2, 0, 0],\n",
              "       [3, 4, 5, 0],\n",
              "       [6, 7, 8, 9]], dtype=int32)"
            ]
          },
          "metadata": {
            "tags": []
          },
          "execution_count": 31
        }
      ]
    },
    {
      "cell_type": "code",
      "metadata": {
        "id": "rcc4Fqf1lR3i",
        "colab_type": "code",
        "colab": {
          "base_uri": "https://localhost:8080/",
          "height": 68
        },
        "outputId": "c35593f8-7db6-4f80-b0df-9b11f7234e3a"
      },
      "source": [
        "pad_sequences(sequence, maxlen = 3)"
      ],
      "execution_count": 32,
      "outputs": [
        {
          "output_type": "execute_result",
          "data": {
            "text/plain": [
              "array([[0, 1, 2],\n",
              "       [3, 4, 5],\n",
              "       [7, 8, 9]], dtype=int32)"
            ]
          },
          "metadata": {
            "tags": []
          },
          "execution_count": 32
        }
      ]
    },
    {
      "cell_type": "code",
      "metadata": {
        "id": "-d7_TIuYlj87",
        "colab_type": "code",
        "colab": {
          "base_uri": "https://localhost:8080/",
          "height": 68
        },
        "outputId": "95b6037e-7324-4816-bf73-7743e87666f2"
      },
      "source": [
        "pad_sequences(sequence, maxlen = 3, truncating= 'post')"
      ],
      "execution_count": 33,
      "outputs": [
        {
          "output_type": "execute_result",
          "data": {
            "text/plain": [
              "array([[0, 1, 2],\n",
              "       [3, 4, 5],\n",
              "       [6, 7, 8]], dtype=int32)"
            ]
          },
          "metadata": {
            "tags": []
          },
          "execution_count": 33
        }
      ]
    },
    {
      "cell_type": "code",
      "metadata": {
        "id": "UErQ-8rEmMuL",
        "colab_type": "code",
        "colab": {
          "base_uri": "https://localhost:8080/",
          "height": 68
        },
        "outputId": "dca36245-6883-476f-d220-d51724b2195d"
      },
      "source": [
        "pad_sequences(sequence, value=10)"
      ],
      "execution_count": 34,
      "outputs": [
        {
          "output_type": "execute_result",
          "data": {
            "text/plain": [
              "array([[10, 10,  1,  2],\n",
              "       [10,  3,  4,  5],\n",
              "       [ 6,  7,  8,  9]], dtype=int32)"
            ]
          },
          "metadata": {
            "tags": []
          },
          "execution_count": 34
        }
      ]
    },
    {
      "cell_type": "code",
      "metadata": {
        "id": "rtnRXwWhqBXS",
        "colab_type": "code",
        "colab": {}
      },
      "source": [
        ""
      ],
      "execution_count": 0,
      "outputs": []
    }
  ]
}