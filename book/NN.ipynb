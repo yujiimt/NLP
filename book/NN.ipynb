{
  "nbformat": 4,
  "nbformat_minor": 0,
  "metadata": {
    "colab": {
      "name": "NN.ipynb",
      "provenance": [],
      "authorship_tag": "ABX9TyMBQjLT0za/KlkckNx7EfSK",
      "include_colab_link": true
    },
    "kernelspec": {
      "name": "python3",
      "display_name": "Python 3"
    }
  },
  "cells": [
    {
      "cell_type": "markdown",
      "metadata": {
        "id": "view-in-github",
        "colab_type": "text"
      },
      "source": [
        "<a href=\"https://colab.research.google.com/github/yujiimt/NLP/blob/master/book/NN.ipynb\" target=\"_parent\"><img src=\"https://colab.research.google.com/assets/colab-badge.svg\" alt=\"Open In Colab\"/></a>"
      ]
    },
    {
      "cell_type": "code",
      "metadata": {
        "id": "MQW6ezuJ7oFB",
        "colab_type": "code",
        "colab": {}
      },
      "source": [
        "from tensorflow.keras.models import Sequential, Model\n",
        "from tensorflow.keras.layers import Dense, Input\n",
        "from tensorflow.keras.callbacks import ModelCheckpoint, EarlyStopping, TensorBoard"
      ],
      "execution_count": 0,
      "outputs": []
    },
    {
      "cell_type": "code",
      "metadata": {
        "id": "MORzXtB77z2w",
        "colab_type": "code",
        "colab": {
          "base_uri": "https://localhost:8080/",
          "height": 204
        },
        "outputId": "498f0868-5fab-4dee-a252-d5f282a87613"
      },
      "source": [
        "!wget https://s3.amazonaws.com/amazon-reviews-pds/tsv/amazon_reviews_multilingual_JP_v1_00.tsv.gz -P data/\n",
        "!gunzip -d data/amazon_reviews_multilingual_JP_v1_00.tsv.gz"
      ],
      "execution_count": 22,
      "outputs": [
        {
          "output_type": "stream",
          "text": [
            "--2020-04-30 17:58:21--  https://s3.amazonaws.com/amazon-reviews-pds/tsv/amazon_reviews_multilingual_JP_v1_00.tsv.gz\n",
            "Resolving s3.amazonaws.com (s3.amazonaws.com)... 52.216.133.189\n",
            "Connecting to s3.amazonaws.com (s3.amazonaws.com)|52.216.133.189|:443... connected.\n",
            "HTTP request sent, awaiting response... 200 OK\n",
            "Length: 94688992 (90M) [application/x-gzip]\n",
            "Saving to: ‘data/amazon_reviews_multilingual_JP_v1_00.tsv.gz’\n",
            "\n",
            "amazon_reviews_mult 100%[===================>]  90.30M  16.3MB/s    in 6.8s    \n",
            "\n",
            "2020-04-30 17:58:29 (13.3 MB/s) - ‘data/amazon_reviews_multilingual_JP_v1_00.tsv.gz’ saved [94688992/94688992]\n",
            "\n"
          ],
          "name": "stdout"
        }
      ]
    },
    {
      "cell_type": "code",
      "metadata": {
        "id": "cgQsWECK7z6d",
        "colab_type": "code",
        "colab": {}
      },
      "source": [
        "model = Sequential()\n",
        "model.add(Dense(units=32, activation = 'relu', input_shape = (16,)))\n",
        "model.add(Dense(units=5, activation = 'softmax'))"
      ],
      "execution_count": 0,
      "outputs": []
    },
    {
      "cell_type": "code",
      "metadata": {
        "id": "l6Jk7E6F8hkP",
        "colab_type": "code",
        "colab": {
          "base_uri": "https://localhost:8080/",
          "height": 68
        },
        "outputId": "adad0594-becd-402e-f878-8277b13cc089"
      },
      "source": [
        "import numpy as np\n",
        "\n",
        "inputs = np.ones((1, 16), dtype = np.float32)\n",
        "model(inputs)"
      ],
      "execution_count": 7,
      "outputs": [
        {
          "output_type": "execute_result",
          "data": {
            "text/plain": [
              "<tf.Tensor: shape=(1, 5), dtype=float32, numpy=\n",
              "array([[0.10000955, 0.26388747, 0.39590535, 0.13636841, 0.10382928]],\n",
              "      dtype=float32)>"
            ]
          },
          "metadata": {
            "tags": []
          },
          "execution_count": 7
        }
      ]
    },
    {
      "cell_type": "code",
      "metadata": {
        "id": "vMWdaWT69Wol",
        "colab_type": "code",
        "colab": {}
      },
      "source": [
        "x = Input(shape=(16,))\n",
        "h = Dense(units=32, activation = 'relu')(x)\n",
        "y = Dense(units=5, activation = 'softmax')(h)\n",
        "model = Model(inputs=[x], outputs=[y])"
      ],
      "execution_count": 0,
      "outputs": []
    },
    {
      "cell_type": "code",
      "metadata": {
        "id": "8c6qKvBT-It6",
        "colab_type": "code",
        "colab": {
          "base_uri": "https://localhost:8080/",
          "height": 255
        },
        "outputId": "f1e9b251-5317-4ba0-f5fc-800a7238a127"
      },
      "source": [
        "model.summary()"
      ],
      "execution_count": 11,
      "outputs": [
        {
          "output_type": "stream",
          "text": [
            "Model: \"model\"\n",
            "_________________________________________________________________\n",
            "Layer (type)                 Output Shape              Param #   \n",
            "=================================================================\n",
            "input_2 (InputLayer)         [(None, 16)]              0         \n",
            "_________________________________________________________________\n",
            "dense_4 (Dense)              (None, 32)                544       \n",
            "_________________________________________________________________\n",
            "dense_5 (Dense)              (None, 5)                 165       \n",
            "=================================================================\n",
            "Total params: 709\n",
            "Trainable params: 709\n",
            "Non-trainable params: 0\n",
            "_________________________________________________________________\n"
          ],
          "name": "stdout"
        }
      ]
    },
    {
      "cell_type": "code",
      "metadata": {
        "id": "S7rpisdt-SUy",
        "colab_type": "code",
        "colab": {}
      },
      "source": [
        "def create_model(vocab_size, label_size, hidden_size=16):\n",
        "    model = Sequential()\n",
        "    model.add(Dense(hidden_size, activation = 'relu', input_shape=(vocab_size,)))\n",
        "    model.add(Dense(label_size, activation = 'softmax'))\n",
        "    return model"
      ],
      "execution_count": 0,
      "outputs": []
    },
    {
      "cell_type": "code",
      "metadata": {
        "id": "Sc8M6OUU-8jp",
        "colab_type": "code",
        "colab": {}
      },
      "source": [
        "model.compile(loss='sparse_categorical_crossentropy',\n",
        "              optimizer='sgd',\n",
        "              metrics=['accuracy'])"
      ],
      "execution_count": 0,
      "outputs": []
    },
    {
      "cell_type": "code",
      "metadata": {
        "id": "hIP683SD_erw",
        "colab_type": "code",
        "colab": {
          "base_uri": "https://localhost:8080/",
          "height": 232
        },
        "outputId": "66ad6f09-835f-4f8b-e791-0c2871fa958a"
      },
      "source": [
        "ModelCheckpoint(filepath,\n",
        "                monitor='val_loss',\n",
        "                verbose=0,\n",
        "                save_best_only=False,\n",
        "                save_weights_only=False,\n",
        "                mode='auto',\n",
        "                period=1)"
      ],
      "execution_count": 18,
      "outputs": [
        {
          "output_type": "error",
          "ename": "NameError",
          "evalue": "ignored",
          "traceback": [
            "\u001b[0;31m---------------------------------------------------------------------------\u001b[0m",
            "\u001b[0;31mNameError\u001b[0m                                 Traceback (most recent call last)",
            "\u001b[0;32m<ipython-input-18-fbc4071855e3>\u001b[0m in \u001b[0;36m<module>\u001b[0;34m()\u001b[0m\n\u001b[0;32m----> 1\u001b[0;31m ModelCheckpoint(filepath,\n\u001b[0m\u001b[1;32m      2\u001b[0m                 \u001b[0mmonitor\u001b[0m\u001b[0;34m=\u001b[0m\u001b[0;34m'val_loss'\u001b[0m\u001b[0;34m,\u001b[0m\u001b[0;34m\u001b[0m\u001b[0;34m\u001b[0m\u001b[0m\n\u001b[1;32m      3\u001b[0m                 \u001b[0mverbose\u001b[0m\u001b[0;34m=\u001b[0m\u001b[0;36m0\u001b[0m\u001b[0;34m,\u001b[0m\u001b[0;34m\u001b[0m\u001b[0;34m\u001b[0m\u001b[0m\n\u001b[1;32m      4\u001b[0m                 \u001b[0msave_best_only\u001b[0m\u001b[0;34m=\u001b[0m\u001b[0;32mFalse\u001b[0m\u001b[0;34m,\u001b[0m\u001b[0;34m\u001b[0m\u001b[0;34m\u001b[0m\u001b[0m\n\u001b[1;32m      5\u001b[0m                 \u001b[0msave_weights_only\u001b[0m\u001b[0;34m=\u001b[0m\u001b[0;32mFalse\u001b[0m\u001b[0;34m,\u001b[0m\u001b[0;34m\u001b[0m\u001b[0;34m\u001b[0m\u001b[0m\n",
            "\u001b[0;31mNameError\u001b[0m: name 'filepath' is not defined"
          ]
        }
      ]
    },
    {
      "cell_type": "code",
      "metadata": {
        "id": "haagdB1zARxa",
        "colab_type": "code",
        "colab": {}
      },
      "source": [
        "import math\n",
        "from tensorflow.keras.utils import Sequence\n",
        "\n",
        "class Generator(Sequence):\n",
        "\n",
        "  def __init__(self, x, y, batch_size = 32):\n",
        "    self.x = x\n",
        "    self.y = y\n",
        "    self.batch_size = batch_size\n",
        "\n",
        "  def __getitem__(self, idx):\n",
        "      batch_x = self.x[idx* self.batch_size: (idx + 1) * self.batch_size]\n",
        "      batch_y = self.y[idx* self.batch_size: (idx + 1) * self.batch_size]\n",
        "      return batch_x, batch_y\n",
        "\n",
        "  def __len__(self):\n",
        "      return math.ceil(len(self.x) / self.batch_size)"
      ],
      "execution_count": 0,
      "outputs": []
    },
    {
      "cell_type": "code",
      "metadata": {
        "id": "YPnZUoQ1JgPa",
        "colab_type": "code",
        "colab": {}
      },
      "source": [
        "import matplotlib.pyplot as plt\n",
        "\n",
        "\n",
        "def plot_history(history):\n",
        "  loss = history.history['loss']\n",
        "  val_loss = history.history['val_loss']\n",
        "  acc = history.history['accuracy']\n",
        "  val_acc = history.history['val_accuracy']\n",
        "  epochs = range(1, len(loss) + 1)\n",
        "\n",
        "\n",
        "  plt.plot(epochs, loss, 'r', label = 'Training loss')\n",
        "  plt.plot(epochs, val_loss, 'b', label = \"Validation loss\")\n",
        "  plt.title('Training and validation loass')\n",
        "  plt.xlabel('Epochs')\n",
        "  plt.ylabel('Loss')\n",
        "  plt.legend()\n",
        "\n",
        "  plt.figure()\n",
        "\n",
        "  plt.plot(epochs, acc, 'r', label = 'Training acc')\n",
        "  plt.plot(epochs, val_acc, 'b', label = 'Validation acc')\n",
        "  plt.title('Training and validation accuracy')\n",
        "  plt.xlabel('Epochs')\n",
        "  plt.ylabel('Accuracy')\n",
        "  plt.legend()\n",
        "  \n",
        "  plt.show()"
      ],
      "execution_count": 0,
      "outputs": []
    },
    {
      "cell_type": "code",
      "metadata": {
        "id": "4yvuJGqGPXj0",
        "colab_type": "code",
        "colab": {
          "base_uri": "https://localhost:8080/",
          "height": 102
        },
        "outputId": "c4353f59-7ea6-4ad7-eed3-0f6a31aa15b2"
      },
      "source": [
        "import string\n",
        "import pandas as pd\n",
        "!pip install janome\n",
        "from bs4 import BeautifulSoup\n",
        "from janome.tokenizer import Tokenizer\n",
        "\n",
        "t = Tokenizer(wakati = True)\n",
        "\n",
        "def filter_by_ascii_rate(text, threshold = 0.9):\n",
        "  ascii_letters = set(string.printable)\n",
        "  rate = sum(c in ascii_letters for c in text) / len(text)\n",
        "  return rate <= threshold\n",
        "\n",
        "\n",
        "def load_dataset(filename, n=5000, state = 6):\n",
        "  df = pd.read_csv(filename, sep = '\\t')\n",
        "\n",
        "  # マルチクラスに変更\n",
        "  mapping = {1: 0, 2: 0, 4: 1, 5: 1}\n",
        "  df = df[df.star_rating != 3]\n",
        "  df.star_rating = df.star_rating.map(mapping)\n",
        "\n",
        "  #日本語処理\n",
        "  is_jp = df.review_body.apply(filter_by_ascii_rate)\n",
        "  df = df[is_jp]\n",
        "\n",
        "  # sampling\n",
        "  df = df.sample(frac = 1, random_state = state)\n",
        "  grouped = df.groupby('star_rating')\n",
        "  df = grouped.head(n=n)\n",
        "  return df.review_body.values, df.star_rating.values\n",
        "def clean_html(html, strip = False):\n",
        "  soup = BeautifulSoup(html, 'html.parser')\n",
        "  text = soup.get_text(strip =  strip)\n",
        "  return text\n",
        "  \n",
        "def tokenize(text):\n",
        "  return t.tokenize(text)"
      ],
      "execution_count": 23,
      "outputs": [
        {
          "output_type": "stream",
          "text": [
            "Collecting janome\n",
            "\u001b[?25l  Downloading https://files.pythonhosted.org/packages/79/f0/bd7f90806132d7d9d642d418bdc3e870cfdff5947254ea3cab27480983a7/Janome-0.3.10-py2.py3-none-any.whl (21.5MB)\n",
            "\u001b[K     |████████████████████████████████| 21.5MB 1.5MB/s \n",
            "\u001b[?25hInstalling collected packages: janome\n",
            "Successfully installed janome-0.3.10\n"
          ],
          "name": "stdout"
        }
      ]
    },
    {
      "cell_type": "code",
      "metadata": {
        "id": "Nv0I0F1WNFc3",
        "colab_type": "code",
        "colab": {
          "base_uri": "https://localhost:8080/",
          "height": 760
        },
        "outputId": "d01e6e96-8e11-407b-89cf-12b093f3297c"
      },
      "source": [
        "from tensorflow.keras.callbacks import ModelCheckpoint, EarlyStopping\n",
        "from tensorflow.keras.models import load_model\n",
        "from sklearn.feature_extraction.text import CountVectorizer\n",
        "from sklearn.model_selection import train_test_split\n",
        "\n",
        "\n",
        "def main():\n",
        "  x,y = load_dataset('/content/data/amazon_reviews_multilingual_JP_v1_00.tsv', n=5000)\n",
        "\n",
        "  x = [clean_html(text, strip = True) for text in x]\n",
        "  x_train, x_test, y_train, y_test = train_test_split(x, y, test_size=0.2, random_state=42)\n",
        "\n",
        "  vectorizer = CountVectorizer(tokenizer=tokenize)\n",
        "  x_train = vectorizer.fit_transform(x_train)\n",
        "  x_test = vectorizer.transform(x_test)\n",
        "  x_train = x_train.toarray()\n",
        "  x_test = x_test.toarray()\n",
        "\n",
        "\n",
        "  vocab_size = len(vectorizer.vocabulary_)\n",
        "  label_size = len(set(y_train))\n",
        "\n",
        "  model = create_model(vocab_size, label_size)\n",
        "  model.compile(loss = 'sparse_categorical_crossentropy',\n",
        "                optimizer = 'adam',\n",
        "                metrics = ['accuracy'])\n",
        "  \n",
        "  filepath = 'model.h5'\n",
        "  callbacks = [\n",
        "               EarlyStopping(patience=3),\n",
        "               ModelCheckpoint(filepath, save_best_only = True)\n",
        "  ]\n",
        "\n",
        "  history = model.fit(x_train, y_train,\n",
        "                      validation_split = 0.2,\n",
        "                      epochs = 100,\n",
        "                      best_size = 32,\n",
        "                      callbacks=callbacks)\n",
        "  \n",
        "  model = load_model(filepath)\n",
        "\n",
        "\n",
        "  text = 'このアプリ最高！'\n",
        "  vec = vectorizer.transform([text])\n",
        "  y_pred = model.predict(vec.toarray())\n",
        "  print(y_pred)\n",
        "\n",
        "\n",
        "  plot_history(history)\n",
        "\n",
        "\n",
        "if __name__ == '__main__':\n",
        "    main()"
      ],
      "execution_count": 46,
      "outputs": [
        {
          "output_type": "stream",
          "text": [
            "Epoch 1/100\n",
            "200/200 [==============================] - 3s 14ms/step - loss: 0.5256 - accuracy: 0.7861 - val_loss: 0.4374 - val_accuracy: 0.8294\n",
            "Epoch 2/100\n",
            "200/200 [==============================] - 3s 15ms/step - loss: 0.2588 - accuracy: 0.9203 - val_loss: 0.4106 - val_accuracy: 0.8331\n",
            "Epoch 3/100\n",
            "200/200 [==============================] - 3s 15ms/step - loss: 0.1389 - accuracy: 0.9680 - val_loss: 0.4241 - val_accuracy: 0.8369\n",
            "Epoch 4/100\n",
            "200/200 [==============================] - 3s 15ms/step - loss: 0.0765 - accuracy: 0.9881 - val_loss: 0.4648 - val_accuracy: 0.8319\n",
            "Epoch 5/100\n",
            "200/200 [==============================] - 3s 15ms/step - loss: 0.0448 - accuracy: 0.9945 - val_loss: 0.5087 - val_accuracy: 0.8331\n",
            "[[0.3091126 0.6908874]]\n"
          ],
          "name": "stdout"
        },
        {
          "output_type": "display_data",
          "data": {
            "image/png": "[encoded data removed]",
            "text/plain": [
              "<Figure size 432x288 with 1 Axes>"
            ]
          },
          "metadata": {
            "tags": [],
            "needs_background": "light"
          }
        },
        {
          "output_type": "display_data",
          "data": {
            "image/png": "[encoded data removed]",
            "text/plain": [
              "<Figure size 432x288 with 1 Axes>"
            ]
          },
          "metadata": {
            "tags": [],
            "needs_background": "light"
          }
        }
      ]
    },
    {
      "cell_type": "code",
      "metadata": {
        "id": "B9RZyPy8WhU_",
        "colab_type": "code",
        "colab": {}
      },
      "source": [
        "ri"
      ],
      "execution_count": 0,
      "outputs": []
    }
  ]
}