{
  "nbformat": 4,
  "nbformat_minor": 0,
  "metadata": {
    "colab": {
      "name": "Untitled32.ipynb",
      "provenance": [],
      "authorship_tag": "ABX9TyPb5GRxJFr3o+QaKuaL1QV5",
      "include_colab_link": true
    },
    "kernelspec": {
      "name": "python3",
      "display_name": "Python 3"
    }
  },
  "cells": [
    {
      "cell_type": "markdown",
      "metadata": {
        "id": "view-in-github",
        "colab_type": "text"
      },
      "source": [
        "<a href=\"https://colab.research.google.com/github/yujiimt/NLP/blob/master/book/feature-estimator.ipynb\" target=\"_parent\"><img src=\"https://colab.research.google.com/assets/colab-badge.svg\" alt=\"Open In Colab\"/></a>"
      ]
    },
    {
      "cell_type": "code",
      "metadata": {
        "id": "7GOaDoPc7uHT",
        "colab_type": "code",
        "colab": {
          "base_uri": "https://localhost:8080/",
          "height": 204
        },
        "outputId": "27163596-449e-4c9d-d6f2-b5536740343f"
      },
      "source": [
        "!wget https://s3.amazonaws.com/amazon-reviews-pds/tsv/amazon_reviews_multilingual_JP_v1_00.tsv.gz -P data/\n",
        "!gunzip -d data/amazon_reviews_multilingual_JP_v1_00.tsv.gz"
      ],
      "execution_count": 2,
      "outputs": [
        {
          "output_type": "stream",
          "text": [
            "--2020-04-28 08:37:19--  https://s3.amazonaws.com/amazon-reviews-pds/tsv/amazon_reviews_multilingual_JP_v1_00.tsv.gz\n",
            "Resolving s3.amazonaws.com (s3.amazonaws.com)... 52.216.146.69\n",
            "Connecting to s3.amazonaws.com (s3.amazonaws.com)|52.216.146.69|:443... connected.\n",
            "HTTP request sent, awaiting response... 200 OK\n",
            "Length: 94688992 (90M) [application/x-gzip]\n",
            "Saving to: ‘data/amazon_reviews_multilingual_JP_v1_00.tsv.gz’\n",
            "\n",
            "amazon_reviews_mult 100%[===================>]  90.30M  28.6MB/s    in 3.2s    \n",
            "\n",
            "2020-04-28 08:37:22 (28.6 MB/s) - ‘data/amazon_reviews_multilingual_JP_v1_00.tsv.gz’ saved [94688992/94688992]\n",
            "\n"
          ],
          "name": "stdout"
        }
      ]
    },
    {
      "cell_type": "code",
      "metadata": {
        "id": "JFVYHbzv0_Oj",
        "colab_type": "code",
        "colab": {}
      },
      "source": [
        "import string\n",
        "import pandas as pd\n",
        "\n",
        "def filter_by_ascii_rate(text, threshold = 0.9):\n",
        "  ascii_letters = set(string.printable)\n",
        "  rate = sum(c in ascii_letters for c in text) / len(text)\n",
        "  return rate <= threshold\n",
        "\n",
        "\n",
        "def load_dataset(filename, n=5000, state = 6):\n",
        "  df = pd.read_csv(filename, sep = '\\t')\n",
        "\n",
        "  # マルチクラスに変更\n",
        "  mapping = {1: 0, 2: 0, 4: 1, 5: 1}\n",
        "  df = df[df.star_rating != 3]\n",
        "  df.star_rating = df.star_rating.map(mapping)\n",
        "\n",
        "  #日本語処理\n",
        "  is_jp = df.review_body.apply(filter_by_ascii_rate)\n",
        "  df = df[is_jp]\n",
        "\n",
        "  # sampling\n",
        "  df = df.sample(frac = 1, random_state = state)\n",
        "  grouped = df.groupby('star_rating')\n",
        "  df = grouped.head(n=n)\n",
        "  return df.review_body.values, df.star_rating.values"
      ],
      "execution_count": 0,
      "outputs": []
    },
    {
      "cell_type": "code",
      "metadata": {
        "id": "Rmcey4B27gHL",
        "colab_type": "code",
        "colab": {
          "base_uri": "https://localhost:8080/",
          "height": 34
        },
        "outputId": "e3f32c39-2f80-4786-8741-ad00799dcfc4"
      },
      "source": [
        "!pip install janome\n",
        "from bs4 import BeautifulSoup\n",
        "from janome.tokenizer import Tokenizer\n",
        "\n",
        "t = Tokenizer(wakati = True)"
      ],
      "execution_count": 11,
      "outputs": [
        {
          "output_type": "stream",
          "text": [
            "Requirement already satisfied: janome in /usr/local/lib/python3.6/dist-packages (0.3.10)\n"
          ],
          "name": "stdout"
        }
      ]
    },
    {
      "cell_type": "code",
      "metadata": {
        "id": "4ICnqhYT7tH4",
        "colab_type": "code",
        "colab": {}
      },
      "source": [
        "def clean_html(html, strip = False):\n",
        "  soup = BeautifulSoup(html, 'html.parser')\n",
        "  text = soup.get_text(strip =  strip)\n",
        "  return text\n",
        "  \n",
        "def tokenize(text):\n",
        "  return t.tokenize(text)"
      ],
      "execution_count": 0,
      "outputs": []
    },
    {
      "cell_type": "code",
      "metadata": {
        "id": "dC3jQcYd87QC",
        "colab_type": "code",
        "colab": {}
      },
      "source": [
        "from sklearn.linear_model import LogisticRegression\n",
        "from sklearn.metrics import accuracy_score\n",
        "\n",
        "\n",
        "def train_and_eval(x_train, y_train, x_test, y_test, vectorizer):\n",
        "  x_train_vec = vectorizer.fit_transform(x_train)\n",
        "  x_test_vec = vectorizer.transform(x_test)\n",
        "  clf = LogisticRegression(solver = 'liblinear')\n",
        "  clf.fit(x_train_vec, y_train)\n",
        "  y_pred = clf.predict(x_test_vec)\n",
        "  score = accuracy_score(y_test, y_pred)\n",
        "  print('{:.4f}'.format(score))"
      ],
      "execution_count": 0,
      "outputs": []
    },
    {
      "cell_type": "code",
      "metadata": {
        "id": "NbJz9PrK_aPv",
        "colab_type": "code",
        "colab": {
          "base_uri": "https://localhost:8080/",
          "height": 136
        },
        "outputId": "e2e420ac-be74-4caa-ed9b-e5f3f7e21ef9"
      },
      "source": [
        "from sklearn.feature_extraction.text import CountVectorizer, TfidfVectorizer\n",
        "from sklearn.model_selection import train_test_split\n",
        "\n",
        "def main():\n",
        "  x,y = load_dataset('/content/data/amazon_reviews_multilingual_JP_v1_00.tsv', n = 5000)\n",
        "\n",
        "  print('Tokenization')\n",
        "  x = [clean_html(text, strip = True) for text in x]\n",
        "  x = [' '.join(tokenize(text)) for text in x]\n",
        "  x_train, x_test, y_train, y_test = train_test_split(x,y, test_size = 0.2, random_state = 42)\n",
        "\n",
        "\n",
        "  print(\"Binary\")\n",
        "  vectorizer = CountVectorizer(binary = True)\n",
        "  train_and_eval(x_train, y_train, x_test, y_test, vectorizer)\n",
        "\n",
        "  print(\"Counter\")\n",
        "  vectorizer = CountVectorizer(binary = False)\n",
        "  train_and_eval(x_train, y_train, x_test, y_test, vectorizer)\n",
        "\n",
        "  print('TF-IDF')\n",
        "  vectorizer = TfidfVectorizer(ngram_range=(1,2))\n",
        "  train_and_eval(x_train, y_train, x_test, y_test, vectorizer)\n",
        "\n",
        "if __name__ == '__main__' :\n",
        "    main()"
      ],
      "execution_count": 21,
      "outputs": [
        {
          "output_type": "stream",
          "text": [
            "Tokenization\n",
            "Binary\n",
            "0.8385\n",
            "Counter\n",
            "0.8365\n",
            "TF-IDF\n",
            "0.8545\n"
          ],
          "name": "stdout"
        }
      ]
    },
    {
      "cell_type": "code",
      "metadata": {
        "id": "SShv2vt1FUT_",
        "colab_type": "code",
        "colab": {}
      },
      "source": [
        " "
      ],
      "execution_count": 0,
      "outputs": []
    }
  ]
}