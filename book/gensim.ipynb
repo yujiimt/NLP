{
  "nbformat": 4,
  "nbformat_minor": 0,
  "metadata": {
    "colab": {
      "name": "gensim.ipynb",
      "provenance": [],
      "authorship_tag": "ABX9TyMsK3igkfdVhx8XNEbxYm+z",
      "include_colab_link": true
    },
    "kernelspec": {
      "name": "python3",
      "display_name": "Python 3"
    }
  },
  "cells": [
    {
      "cell_type": "markdown",
      "metadata": {
        "id": "view-in-github",
        "colab_type": "text"
      },
      "source": [
        "<a href=\"https://colab.research.google.com/github/yujiimt/NLP/blob/master/book/gensim.ipynb\" target=\"_parent\"><img src=\"https://colab.research.google.com/assets/colab-badge.svg\" alt=\"Open In Colab\"/></a>"
      ]
    },
    {
      "cell_type": "code",
      "metadata": {
        "id": "rfOz3QBdZwMd",
        "colab_type": "code",
        "colab": {
          "base_uri": "https://localhost:8080/",
          "height": 238
        },
        "outputId": "68add5f0-80ee-4772-8251-7bf7bd02a063"
      },
      "source": [
        "!mkdir data\n",
        "!wget https://s3-ap-northeast-1.amazonaws.com/dev.tech-sketch.jp/chakki/public/ja.text8.zip -P data/\n",
        "!unzip data/ja.text8.zip -d data/"
      ],
      "execution_count": 4,
      "outputs": [
        {
          "output_type": "stream",
          "text": [
            "--2020-05-01 08:42:52--  https://s3-ap-northeast-1.amazonaws.com/dev.tech-sketch.jp/chakki/public/ja.text8.zip\n",
            "Resolving s3-ap-northeast-1.amazonaws.com (s3-ap-northeast-1.amazonaws.com)... 52.219.1.6\n",
            "Connecting to s3-ap-northeast-1.amazonaws.com (s3-ap-northeast-1.amazonaws.com)|52.219.1.6|:443... connected.\n",
            "HTTP request sent, awaiting response... 200 OK\n",
            "Length: 33905114 (32M) [application/zip]\n",
            "Saving to: ‘data/ja.text8.zip’\n",
            "\n",
            "ja.text8.zip        100%[===================>]  32.33M  11.8MB/s    in 2.7s    \n",
            "\n",
            "2020-05-01 08:42:55 (11.8 MB/s) - ‘data/ja.text8.zip’ saved [33905114/33905114]\n",
            "\n",
            "Archive:  data/ja.text8.zip\n",
            "  inflating: data/ja.text8           \n"
          ],
          "name": "stdout"
        }
      ]
    },
    {
      "cell_type": "code",
      "metadata": {
        "id": "G9mSpAr4MGvL",
        "colab_type": "code",
        "colab": {
          "base_uri": "https://localhost:8080/",
          "height": 306
        },
        "outputId": "02ef110b-1371-497f-fb20-84016a7e91b1"
      },
      "source": [
        "!pip install gensim"
      ],
      "execution_count": 1,
      "outputs": [
        {
          "output_type": "stream",
          "text": [
            "Requirement already satisfied: gensim in /usr/local/lib/python3.6/dist-packages (3.6.0)\n",
            "Requirement already satisfied: scipy>=0.18.1 in /usr/local/lib/python3.6/dist-packages (from gensim) (1.4.1)\n",
            "Requirement already satisfied: smart-open>=1.2.1 in /usr/local/lib/python3.6/dist-packages (from gensim) (1.11.1)\n",
            "Requirement already satisfied: numpy>=1.11.3 in /usr/local/lib/python3.6/dist-packages (from gensim) (1.18.3)\n",
            "Requirement already satisfied: six>=1.5.0 in /usr/local/lib/python3.6/dist-packages (from gensim) (1.12.0)\n",
            "Requirement already satisfied: boto in /usr/local/lib/python3.6/dist-packages (from smart-open>=1.2.1->gensim) (2.49.0)\n",
            "Requirement already satisfied: boto3 in /usr/local/lib/python3.6/dist-packages (from smart-open>=1.2.1->gensim) (1.12.47)\n",
            "Requirement already satisfied: requests in /usr/local/lib/python3.6/dist-packages (from smart-open>=1.2.1->gensim) (2.23.0)\n",
            "Requirement already satisfied: s3transfer<0.4.0,>=0.3.0 in /usr/local/lib/python3.6/dist-packages (from boto3->smart-open>=1.2.1->gensim) (0.3.3)\n",
            "Requirement already satisfied: botocore<1.16.0,>=1.15.47 in /usr/local/lib/python3.6/dist-packages (from boto3->smart-open>=1.2.1->gensim) (1.15.47)\n",
            "Requirement already satisfied: jmespath<1.0.0,>=0.7.1 in /usr/local/lib/python3.6/dist-packages (from boto3->smart-open>=1.2.1->gensim) (0.9.5)\n",
            "Requirement already satisfied: urllib3!=1.25.0,!=1.25.1,<1.26,>=1.21.1 in /usr/local/lib/python3.6/dist-packages (from requests->smart-open>=1.2.1->gensim) (1.24.3)\n",
            "Requirement already satisfied: certifi>=2017.4.17 in /usr/local/lib/python3.6/dist-packages (from requests->smart-open>=1.2.1->gensim) (2020.4.5.1)\n",
            "Requirement already satisfied: idna<3,>=2.5 in /usr/local/lib/python3.6/dist-packages (from requests->smart-open>=1.2.1->gensim) (2.9)\n",
            "Requirement already satisfied: chardet<4,>=3.0.2 in /usr/local/lib/python3.6/dist-packages (from requests->smart-open>=1.2.1->gensim) (3.0.4)\n",
            "Requirement already satisfied: docutils<0.16,>=0.10 in /usr/local/lib/python3.6/dist-packages (from botocore<1.16.0,>=1.15.47->boto3->smart-open>=1.2.1->gensim) (0.15.2)\n",
            "Requirement already satisfied: python-dateutil<3.0.0,>=2.1 in /usr/local/lib/python3.6/dist-packages (from botocore<1.16.0,>=1.15.47->boto3->smart-open>=1.2.1->gensim) (2.8.1)\n"
          ],
          "name": "stdout"
        }
      ]
    },
    {
      "cell_type": "code",
      "metadata": {
        "id": "zwR3dM6xYS4I",
        "colab_type": "code",
        "colab": {}
      },
      "source": [
        "import logging\n",
        "from gensim.models.word2vec import Word2Vec, Text8Corpus\n",
        "from gensim.test.utils import datapath"
      ],
      "execution_count": 0,
      "outputs": []
    },
    {
      "cell_type": "code",
      "metadata": {
        "id": "5RmjbHx9ZBQ9",
        "colab_type": "code",
        "colab": {}
      },
      "source": [
        "# 学習中の進捗を出力するためにlogging を有効\n",
        "\n",
        "logging.basicConfig(format = '%(asctime)s : %(levelname)s : %(message)s', level=logging.INFO)"
      ],
      "execution_count": 0,
      "outputs": []
    },
    {
      "cell_type": "code",
      "metadata": {
        "id": "uX5ijEM6ZloK",
        "colab_type": "code",
        "colab": {}
      },
      "source": [
        "sentences = Text8Corpus('data/ja.text8')"
      ],
      "execution_count": 0,
      "outputs": []
    },
    {
      "cell_type": "code",
      "metadata": {
        "id": "-ZhJBCPHaDZV",
        "colab_type": "code",
        "colab": {
          "base_uri": "https://localhost:8080/",
          "height": 1000
        },
        "outputId": "fbbf8a91-6ee6-4b11-e485-bdc02a0e71cf"
      },
      "source": [
        "model = Word2Vec(sentences, size=100, window=5, sg=1)"
      ],
      "execution_count": 6,
      "outputs": [
        {
          "output_type": "stream",
          "text": [
            "2020-05-01 08:45:03,757 : INFO : collecting all words and their counts\n",
            "/usr/local/lib/python3.6/dist-packages/smart_open/smart_open_lib.py:253: UserWarning: This function is deprecated, use smart_open.open instead. See the migration notes for details: https://github.com/RaRe-Technologies/smart_open/blob/master/README.rst#migrating-to-the-new-open-function\n",
            "  'See the migration notes for details: %s' % _MIGRATION_NOTES_URL\n",
            "2020-05-01 08:45:03,770 : INFO : PROGRESS: at sentence #0, processed 0 words, keeping 0 word types\n",
            "2020-05-01 08:45:09,440 : INFO : collected 290811 word types from a corpus of 16900026 raw words and 1691 sentences\n",
            "2020-05-01 08:45:09,441 : INFO : Loading a fresh vocabulary\n",
            "2020-05-01 08:45:09,752 : INFO : effective_min_count=5 retains 75187 unique words (25% of original 290811, drops 215624)\n",
            "2020-05-01 08:45:09,753 : INFO : effective_min_count=5 leaves 16577418 word corpus (98% of original 16900026, drops 322608)\n",
            "2020-05-01 08:45:10,002 : INFO : deleting the raw counts dictionary of 290811 items\n",
            "2020-05-01 08:45:10,014 : INFO : sample=0.001 downsamples 34 most-common words\n",
            "2020-05-01 08:45:10,015 : INFO : downsampling leaves estimated 11431523 word corpus (69.0% of prior 16577418)\n",
            "2020-05-01 08:45:10,315 : INFO : estimated required memory for 75187 words and 100 dimensions: 97743100 bytes\n",
            "2020-05-01 08:45:10,316 : INFO : resetting layer weights\n",
            "2020-05-01 08:45:24,899 : INFO : training model with 3 workers on 75187 vocabulary and 100 features, using sg=1 hs=0 sample=0.001 negative=5 window=5\n",
            "2020-05-01 08:45:25,942 : INFO : EPOCH 1 - PROGRESS: at 1.18% examples, 131558 words/s, in_qsize 5, out_qsize 0\n",
            "2020-05-01 08:45:27,060 : INFO : EPOCH 1 - PROGRESS: at 2.48% examples, 132148 words/s, in_qsize 4, out_qsize 1\n",
            "2020-05-01 08:45:28,081 : INFO : EPOCH 1 - PROGRESS: at 3.73% examples, 134473 words/s, in_qsize 4, out_qsize 1\n",
            "2020-05-01 08:45:29,113 : INFO : EPOCH 1 - PROGRESS: at 4.97% examples, 135429 words/s, in_qsize 5, out_qsize 0\n",
            "2020-05-01 08:45:30,131 : INFO : EPOCH 1 - PROGRESS: at 6.21% examples, 136414 words/s, in_qsize 5, out_qsize 0\n",
            "2020-05-01 08:45:31,196 : INFO : EPOCH 1 - PROGRESS: at 7.45% examples, 135972 words/s, in_qsize 5, out_qsize 0\n",
            "2020-05-01 08:45:32,275 : INFO : EPOCH 1 - PROGRESS: at 8.75% examples, 136327 words/s, in_qsize 5, out_qsize 0\n",
            "2020-05-01 08:45:33,329 : INFO : EPOCH 1 - PROGRESS: at 10.05% examples, 136827 words/s, in_qsize 5, out_qsize 0\n",
            "2020-05-01 08:45:34,406 : INFO : EPOCH 1 - PROGRESS: at 11.30% examples, 136162 words/s, in_qsize 5, out_qsize 1\n",
            "2020-05-01 08:45:35,407 : INFO : EPOCH 1 - PROGRESS: at 12.54% examples, 136740 words/s, in_qsize 5, out_qsize 0\n",
            "2020-05-01 08:45:36,430 : INFO : EPOCH 1 - PROGRESS: at 13.78% examples, 136907 words/s, in_qsize 5, out_qsize 0\n",
            "2020-05-01 08:45:37,485 : INFO : EPOCH 1 - PROGRESS: at 15.08% examples, 137245 words/s, in_qsize 5, out_qsize 0\n",
            "2020-05-01 08:45:38,494 : INFO : EPOCH 1 - PROGRESS: at 16.32% examples, 137539 words/s, in_qsize 5, out_qsize 0\n",
            "2020-05-01 08:45:39,522 : INFO : EPOCH 1 - PROGRESS: at 17.56% examples, 137601 words/s, in_qsize 5, out_qsize 0\n",
            "2020-05-01 08:45:40,524 : INFO : EPOCH 1 - PROGRESS: at 18.81% examples, 137885 words/s, in_qsize 5, out_qsize 0\n",
            "2020-05-01 08:45:41,555 : INFO : EPOCH 1 - PROGRESS: at 20.05% examples, 137844 words/s, in_qsize 5, out_qsize 0\n",
            "2020-05-01 08:45:42,557 : INFO : EPOCH 1 - PROGRESS: at 21.23% examples, 137730 words/s, in_qsize 5, out_qsize 0\n",
            "2020-05-01 08:45:43,609 : INFO : EPOCH 1 - PROGRESS: at 22.47% examples, 137575 words/s, in_qsize 5, out_qsize 0\n",
            "2020-05-01 08:45:44,629 : INFO : EPOCH 1 - PROGRESS: at 23.71% examples, 137646 words/s, in_qsize 5, out_qsize 0\n",
            "2020-05-01 08:45:45,727 : INFO : EPOCH 1 - PROGRESS: at 25.07% examples, 137858 words/s, in_qsize 5, out_qsize 0\n",
            "2020-05-01 08:45:46,728 : INFO : EPOCH 1 - PROGRESS: at 26.32% examples, 138049 words/s, in_qsize 5, out_qsize 0\n",
            "2020-05-01 08:45:47,776 : INFO : EPOCH 1 - PROGRESS: at 27.56% examples, 137904 words/s, in_qsize 5, out_qsize 0\n",
            "2020-05-01 08:45:48,783 : INFO : EPOCH 1 - PROGRESS: at 28.86% examples, 138266 words/s, in_qsize 5, out_qsize 0\n",
            "2020-05-01 08:45:49,816 : INFO : EPOCH 1 - PROGRESS: at 30.04% examples, 137968 words/s, in_qsize 5, out_qsize 0\n",
            "2020-05-01 08:45:50,842 : INFO : EPOCH 1 - PROGRESS: at 31.28% examples, 137972 words/s, in_qsize 5, out_qsize 0\n",
            "2020-05-01 08:45:51,852 : INFO : EPOCH 1 - PROGRESS: at 32.58% examples, 138332 words/s, in_qsize 6, out_qsize 0\n",
            "2020-05-01 08:45:52,876 : INFO : EPOCH 1 - PROGRESS: at 33.71% examples, 137917 words/s, in_qsize 5, out_qsize 1\n",
            "2020-05-01 08:45:53,884 : INFO : EPOCH 1 - PROGRESS: at 35.01% examples, 138190 words/s, in_qsize 5, out_qsize 0\n",
            "2020-05-01 08:45:54,919 : INFO : EPOCH 1 - PROGRESS: at 36.25% examples, 138163 words/s, in_qsize 5, out_qsize 0\n",
            "2020-05-01 08:45:55,975 : INFO : EPOCH 1 - PROGRESS: at 37.49% examples, 138026 words/s, in_qsize 5, out_qsize 0\n",
            "2020-05-01 08:45:56,990 : INFO : EPOCH 1 - PROGRESS: at 38.73% examples, 138094 words/s, in_qsize 5, out_qsize 0\n",
            "2020-05-01 08:45:58,006 : INFO : EPOCH 1 - PROGRESS: at 39.98% examples, 138148 words/s, in_qsize 5, out_qsize 0\n",
            "2020-05-01 08:45:59,097 : INFO : EPOCH 1 - PROGRESS: at 41.28% examples, 138090 words/s, in_qsize 5, out_qsize 0\n",
            "2020-05-01 08:46:00,106 : INFO : EPOCH 1 - PROGRESS: at 42.52% examples, 138185 words/s, in_qsize 5, out_qsize 0\n",
            "2020-05-01 08:46:01,124 : INFO : EPOCH 1 - PROGRESS: at 43.76% examples, 138211 words/s, in_qsize 5, out_qsize 0\n",
            "2020-05-01 08:46:02,179 : INFO : EPOCH 1 - PROGRESS: at 45.00% examples, 138089 words/s, in_qsize 5, out_qsize 0\n",
            "2020-05-01 08:46:03,183 : INFO : EPOCH 1 - PROGRESS: at 46.24% examples, 138171 words/s, in_qsize 5, out_qsize 0\n",
            "2020-05-01 08:46:04,240 : INFO : EPOCH 1 - PROGRESS: at 47.49% examples, 138057 words/s, in_qsize 5, out_qsize 0\n",
            "2020-05-01 08:46:05,256 : INFO : EPOCH 1 - PROGRESS: at 48.73% examples, 138108 words/s, in_qsize 5, out_qsize 0\n",
            "2020-05-01 08:46:06,265 : INFO : EPOCH 1 - PROGRESS: at 49.91% examples, 138026 words/s, in_qsize 5, out_qsize 0\n",
            "2020-05-01 08:46:07,339 : INFO : EPOCH 1 - PROGRESS: at 51.21% examples, 138034 words/s, in_qsize 5, out_qsize 0\n",
            "2020-05-01 08:46:08,394 : INFO : EPOCH 1 - PROGRESS: at 52.51% examples, 138117 words/s, in_qsize 5, out_qsize 0\n",
            "2020-05-01 08:46:09,420 : INFO : EPOCH 1 - PROGRESS: at 53.76% examples, 138131 words/s, in_qsize 5, out_qsize 0\n",
            "2020-05-01 08:46:10,438 : INFO : EPOCH 1 - PROGRESS: at 55.00% examples, 138160 words/s, in_qsize 5, out_qsize 0\n",
            "2020-05-01 08:46:11,462 : INFO : EPOCH 1 - PROGRESS: at 56.30% examples, 138314 words/s, in_qsize 5, out_qsize 0\n",
            "2020-05-01 08:46:12,566 : INFO : EPOCH 1 - PROGRESS: at 57.60% examples, 138215 words/s, in_qsize 4, out_qsize 1\n",
            "2020-05-01 08:46:13,624 : INFO : EPOCH 1 - PROGRESS: at 58.90% examples, 138276 words/s, in_qsize 5, out_qsize 0\n",
            "2020-05-01 08:46:14,627 : INFO : EPOCH 1 - PROGRESS: at 60.14% examples, 138354 words/s, in_qsize 5, out_qsize 0\n",
            "2020-05-01 08:46:15,702 : INFO : EPOCH 1 - PROGRESS: at 61.44% examples, 138361 words/s, in_qsize 5, out_qsize 0\n",
            "2020-05-01 08:46:16,726 : INFO : EPOCH 1 - PROGRESS: at 62.68% examples, 138361 words/s, in_qsize 5, out_qsize 0\n",
            "2020-05-01 08:46:17,783 : INFO : EPOCH 1 - PROGRESS: at 63.99% examples, 138412 words/s, in_qsize 6, out_qsize 0\n",
            "2020-05-01 08:46:18,789 : INFO : EPOCH 1 - PROGRESS: at 65.23% examples, 138471 words/s, in_qsize 5, out_qsize 0\n",
            "2020-05-01 08:46:19,861 : INFO : EPOCH 1 - PROGRESS: at 66.47% examples, 138333 words/s, in_qsize 6, out_qsize 1\n",
            "2020-05-01 08:46:20,949 : INFO : EPOCH 1 - PROGRESS: at 67.83% examples, 138421 words/s, in_qsize 5, out_qsize 0\n",
            "2020-05-01 08:46:22,037 : INFO : EPOCH 1 - PROGRESS: at 69.13% examples, 138406 words/s, in_qsize 4, out_qsize 1\n",
            "2020-05-01 08:46:23,076 : INFO : EPOCH 1 - PROGRESS: at 70.37% examples, 138386 words/s, in_qsize 5, out_qsize 0\n",
            "2020-05-01 08:46:24,077 : INFO : EPOCH 1 - PROGRESS: at 71.61% examples, 138475 words/s, in_qsize 5, out_qsize 0\n",
            "2020-05-01 08:46:25,094 : INFO : EPOCH 1 - PROGRESS: at 72.86% examples, 138489 words/s, in_qsize 5, out_qsize 0\n",
            "2020-05-01 08:46:26,158 : INFO : EPOCH 1 - PROGRESS: at 74.10% examples, 138395 words/s, in_qsize 6, out_qsize 1\n",
            "2020-05-01 08:46:27,210 : INFO : EPOCH 1 - PROGRESS: at 75.40% examples, 138426 words/s, in_qsize 5, out_qsize 0\n",
            "2020-05-01 08:46:28,238 : INFO : EPOCH 1 - PROGRESS: at 76.64% examples, 138433 words/s, in_qsize 5, out_qsize 0\n",
            "2020-05-01 08:46:29,323 : INFO : EPOCH 1 - PROGRESS: at 77.94% examples, 138406 words/s, in_qsize 5, out_qsize 0\n",
            "2020-05-01 08:46:30,328 : INFO : EPOCH 1 - PROGRESS: at 79.18% examples, 138436 words/s, in_qsize 5, out_qsize 0\n",
            "2020-05-01 08:46:31,373 : INFO : EPOCH 1 - PROGRESS: at 80.43% examples, 138402 words/s, in_qsize 6, out_qsize 0\n",
            "2020-05-01 08:46:32,400 : INFO : EPOCH 1 - PROGRESS: at 81.67% examples, 138402 words/s, in_qsize 5, out_qsize 0\n",
            "2020-05-01 08:46:33,400 : INFO : EPOCH 1 - PROGRESS: at 82.91% examples, 138452 words/s, in_qsize 5, out_qsize 0\n",
            "2020-05-01 08:46:34,405 : INFO : EPOCH 1 - PROGRESS: at 84.09% examples, 138406 words/s, in_qsize 5, out_qsize 0\n",
            "2020-05-01 08:46:35,406 : INFO : EPOCH 1 - PROGRESS: at 85.33% examples, 138444 words/s, in_qsize 5, out_qsize 0\n",
            "2020-05-01 08:46:36,461 : INFO : EPOCH 1 - PROGRESS: at 86.58% examples, 138385 words/s, in_qsize 5, out_qsize 0\n",
            "2020-05-01 08:46:37,551 : INFO : EPOCH 1 - PROGRESS: at 87.88% examples, 138362 words/s, in_qsize 5, out_qsize 0\n",
            "2020-05-01 08:46:38,584 : INFO : EPOCH 1 - PROGRESS: at 89.18% examples, 138440 words/s, in_qsize 5, out_qsize 0\n",
            "2020-05-01 08:46:39,597 : INFO : EPOCH 1 - PROGRESS: at 90.36% examples, 138371 words/s, in_qsize 5, out_qsize 0\n",
            "2020-05-01 08:46:40,636 : INFO : EPOCH 1 - PROGRESS: at 91.60% examples, 138348 words/s, in_qsize 4, out_qsize 1\n",
            "2020-05-01 08:46:41,707 : INFO : EPOCH 1 - PROGRESS: at 92.90% examples, 138359 words/s, in_qsize 5, out_qsize 0\n",
            "2020-05-01 08:46:42,754 : INFO : EPOCH 1 - PROGRESS: at 94.20% examples, 138424 words/s, in_qsize 5, out_qsize 0\n",
            "2020-05-01 08:46:43,804 : INFO : EPOCH 1 - PROGRESS: at 95.45% examples, 138384 words/s, in_qsize 6, out_qsize 1\n",
            "2020-05-01 08:46:44,815 : INFO : EPOCH 1 - PROGRESS: at 96.69% examples, 138409 words/s, in_qsize 5, out_qsize 0\n",
            "2020-05-01 08:46:45,837 : INFO : EPOCH 1 - PROGRESS: at 97.87% examples, 138328 words/s, in_qsize 4, out_qsize 1\n",
            "2020-05-01 08:46:46,905 : INFO : EPOCH 1 - PROGRESS: at 99.17% examples, 138353 words/s, in_qsize 4, out_qsize 1\n",
            "2020-05-01 08:46:47,431 : INFO : worker thread finished; awaiting finish of 2 more threads\n",
            "2020-05-01 08:46:47,437 : INFO : worker thread finished; awaiting finish of 1 more threads\n",
            "2020-05-01 08:46:47,481 : INFO : worker thread finished; awaiting finish of 0 more threads\n",
            "2020-05-01 08:46:47,482 : INFO : EPOCH - 1 : training on 16900026 raw words (11432776 effective words) took 82.6s, 138466 effective words/s\n",
            "2020-05-01 08:46:48,536 : INFO : EPOCH 2 - PROGRESS: at 1.18% examples, 128944 words/s, in_qsize 5, out_qsize 0\n",
            "2020-05-01 08:46:49,539 : INFO : EPOCH 2 - PROGRESS: at 2.48% examples, 138007 words/s, in_qsize 5, out_qsize 0\n",
            "2020-05-01 08:46:50,557 : INFO : EPOCH 2 - PROGRESS: at 3.67% examples, 136414 words/s, in_qsize 4, out_qsize 1\n",
            "2020-05-01 08:46:51,608 : INFO : EPOCH 2 - PROGRESS: at 4.91% examples, 136213 words/s, in_qsize 6, out_qsize 1\n",
            "2020-05-01 08:46:52,672 : INFO : EPOCH 2 - PROGRESS: at 6.27% examples, 138405 words/s, in_qsize 5, out_qsize 0\n",
            "2020-05-01 08:46:53,681 : INFO : EPOCH 2 - PROGRESS: at 7.51% examples, 138833 words/s, in_qsize 5, out_qsize 0\n",
            "2020-05-01 08:46:54,702 : INFO : EPOCH 2 - PROGRESS: at 8.69% examples, 138024 words/s, in_qsize 5, out_qsize 0\n",
            "2020-05-01 08:46:55,731 : INFO : EPOCH 2 - PROGRESS: at 9.93% examples, 137953 words/s, in_qsize 5, out_qsize 0\n",
            "2020-05-01 08:46:56,754 : INFO : EPOCH 2 - PROGRESS: at 11.18% examples, 137941 words/s, in_qsize 5, out_qsize 0\n",
            "2020-05-01 08:46:57,787 : INFO : EPOCH 2 - PROGRESS: at 12.42% examples, 137956 words/s, in_qsize 4, out_qsize 1\n",
            "2020-05-01 08:46:58,853 : INFO : EPOCH 2 - PROGRESS: at 13.72% examples, 138083 words/s, in_qsize 5, out_qsize 0\n",
            "2020-05-01 08:46:59,884 : INFO : EPOCH 2 - PROGRESS: at 14.96% examples, 138050 words/s, in_qsize 5, out_qsize 0\n",
            "2020-05-01 08:47:00,976 : INFO : EPOCH 2 - PROGRESS: at 16.26% examples, 137941 words/s, in_qsize 5, out_qsize 0\n",
            "2020-05-01 08:47:02,000 : INFO : EPOCH 2 - PROGRESS: at 17.50% examples, 137979 words/s, in_qsize 5, out_qsize 0\n",
            "2020-05-01 08:47:03,002 : INFO : EPOCH 2 - PROGRESS: at 18.75% examples, 138235 words/s, in_qsize 5, out_qsize 0\n",
            "2020-05-01 08:47:04,030 : INFO : EPOCH 2 - PROGRESS: at 19.99% examples, 138181 words/s, in_qsize 5, out_qsize 0\n",
            "2020-05-01 08:47:05,034 : INFO : EPOCH 2 - PROGRESS: at 21.23% examples, 138421 words/s, in_qsize 5, out_qsize 0\n",
            "2020-05-01 08:47:06,044 : INFO : EPOCH 2 - PROGRESS: at 22.41% examples, 138174 words/s, in_qsize 5, out_qsize 0\n",
            "2020-05-01 08:47:07,097 : INFO : EPOCH 2 - PROGRESS: at 23.65% examples, 137991 words/s, in_qsize 4, out_qsize 1\n",
            "2020-05-01 08:47:08,112 : INFO : EPOCH 2 - PROGRESS: at 24.90% examples, 138095 words/s, in_qsize 5, out_qsize 0\n",
            "2020-05-01 08:47:09,151 : INFO : EPOCH 2 - PROGRESS: at 26.20% examples, 138321 words/s, in_qsize 5, out_qsize 0\n",
            "2020-05-01 08:47:10,200 : INFO : EPOCH 2 - PROGRESS: at 27.44% examples, 138159 words/s, in_qsize 5, out_qsize 0\n",
            "2020-05-01 08:47:11,251 : INFO : EPOCH 2 - PROGRESS: at 28.74% examples, 138267 words/s, in_qsize 5, out_qsize 0\n",
            "2020-05-01 08:47:12,285 : INFO : EPOCH 2 - PROGRESS: at 29.98% examples, 138206 words/s, in_qsize 5, out_qsize 0\n",
            "2020-05-01 08:47:13,294 : INFO : EPOCH 2 - PROGRESS: at 31.22% examples, 138299 words/s, in_qsize 5, out_qsize 0\n",
            "2020-05-01 08:47:14,331 : INFO : EPOCH 2 - PROGRESS: at 32.47% examples, 138261 words/s, in_qsize 5, out_qsize 0\n",
            "2020-05-01 08:47:15,341 : INFO : EPOCH 2 - PROGRESS: at 33.71% examples, 138352 words/s, in_qsize 5, out_qsize 0\n",
            "2020-05-01 08:47:16,413 : INFO : EPOCH 2 - PROGRESS: at 34.95% examples, 138136 words/s, in_qsize 5, out_qsize 0\n",
            "2020-05-01 08:47:17,530 : INFO : EPOCH 2 - PROGRESS: at 36.31% examples, 138186 words/s, in_qsize 4, out_qsize 1\n",
            "2020-05-01 08:47:18,597 : INFO : EPOCH 2 - PROGRESS: at 37.61% examples, 138220 words/s, in_qsize 6, out_qsize 1\n",
            "2020-05-01 08:47:19,670 : INFO : EPOCH 2 - PROGRESS: at 38.91% examples, 138252 words/s, in_qsize 5, out_qsize 0\n",
            "2020-05-01 08:47:20,741 : INFO : EPOCH 2 - PROGRESS: at 40.21% examples, 138273 words/s, in_qsize 5, out_qsize 0\n",
            "2020-05-01 08:47:21,759 : INFO : EPOCH 2 - PROGRESS: at 41.45% examples, 138325 words/s, in_qsize 5, out_qsize 0\n",
            "2020-05-01 08:47:22,801 : INFO : EPOCH 2 - PROGRESS: at 42.76% examples, 138466 words/s, in_qsize 5, out_qsize 0\n",
            "2020-05-01 08:47:23,829 : INFO : EPOCH 2 - PROGRESS: at 43.94% examples, 138253 words/s, in_qsize 5, out_qsize 0\n",
            "2020-05-01 08:47:24,855 : INFO : EPOCH 2 - PROGRESS: at 45.24% examples, 138416 words/s, in_qsize 5, out_qsize 0\n",
            "2020-05-01 08:47:25,865 : INFO : EPOCH 2 - PROGRESS: at 46.42% examples, 138295 words/s, in_qsize 5, out_qsize 0\n",
            "2020-05-01 08:47:26,885 : INFO : EPOCH 2 - PROGRESS: at 47.66% examples, 138309 words/s, in_qsize 5, out_qsize 0\n",
            "2020-05-01 08:47:27,887 : INFO : EPOCH 2 - PROGRESS: at 48.85% examples, 138242 words/s, in_qsize 5, out_qsize 0\n",
            "2020-05-01 08:47:28,901 : INFO : EPOCH 2 - PROGRESS: at 50.09% examples, 138293 words/s, in_qsize 5, out_qsize 0\n",
            "2020-05-01 08:47:29,918 : INFO : EPOCH 2 - PROGRESS: at 51.33% examples, 138327 words/s, in_qsize 5, out_qsize 0\n",
            "2020-05-01 08:47:30,936 : INFO : EPOCH 2 - PROGRESS: at 52.57% examples, 138359 words/s, in_qsize 5, out_qsize 0\n",
            "2020-05-01 08:47:31,981 : INFO : EPOCH 2 - PROGRESS: at 53.81% examples, 138310 words/s, in_qsize 5, out_qsize 0\n",
            "2020-05-01 08:47:32,991 : INFO : EPOCH 2 - PROGRESS: at 55.12% examples, 138508 words/s, in_qsize 5, out_qsize 0\n",
            "2020-05-01 08:47:34,009 : INFO : EPOCH 2 - PROGRESS: at 56.36% examples, 138526 words/s, in_qsize 5, out_qsize 0\n",
            "2020-05-01 08:47:35,015 : INFO : EPOCH 2 - PROGRESS: at 57.48% examples, 138285 words/s, in_qsize 3, out_qsize 2\n",
            "2020-05-01 08:47:36,019 : INFO : EPOCH 2 - PROGRESS: at 58.72% examples, 138366 words/s, in_qsize 5, out_qsize 0\n",
            "2020-05-01 08:47:37,037 : INFO : EPOCH 2 - PROGRESS: at 59.96% examples, 138400 words/s, in_qsize 5, out_qsize 0\n",
            "2020-05-01 08:47:38,052 : INFO : EPOCH 2 - PROGRESS: at 61.15% examples, 138308 words/s, in_qsize 5, out_qsize 0\n",
            "2020-05-01 08:47:39,068 : INFO : EPOCH 2 - PROGRESS: at 62.39% examples, 138322 words/s, in_qsize 6, out_qsize 0\n",
            "2020-05-01 08:47:40,123 : INFO : EPOCH 2 - PROGRESS: at 63.69% examples, 138382 words/s, in_qsize 5, out_qsize 0\n",
            "2020-05-01 08:47:41,157 : INFO : EPOCH 2 - PROGRESS: at 64.93% examples, 138373 words/s, in_qsize 5, out_qsize 0\n",
            "2020-05-01 08:47:42,204 : INFO : EPOCH 2 - PROGRESS: at 66.23% examples, 138432 words/s, in_qsize 5, out_qsize 0\n",
            "2020-05-01 08:47:43,271 : INFO : EPOCH 2 - PROGRESS: at 67.47% examples, 138332 words/s, in_qsize 5, out_qsize 0\n",
            "2020-05-01 08:47:44,296 : INFO : EPOCH 2 - PROGRESS: at 68.78% examples, 138456 words/s, in_qsize 5, out_qsize 0\n",
            "2020-05-01 08:47:45,330 : INFO : EPOCH 2 - PROGRESS: at 70.02% examples, 138463 words/s, in_qsize 5, out_qsize 0\n",
            "2020-05-01 08:47:46,375 : INFO : EPOCH 2 - PROGRESS: at 71.26% examples, 138454 words/s, in_qsize 5, out_qsize 0\n",
            "2020-05-01 08:47:47,405 : INFO : EPOCH 2 - PROGRESS: at 72.50% examples, 138428 words/s, in_qsize 5, out_qsize 0\n",
            "2020-05-01 08:47:48,415 : INFO : EPOCH 2 - PROGRESS: at 73.74% examples, 138464 words/s, in_qsize 5, out_qsize 0\n",
            "2020-05-01 08:47:49,462 : INFO : EPOCH 2 - PROGRESS: at 75.04% examples, 138502 words/s, in_qsize 5, out_qsize 0\n",
            "2020-05-01 08:47:50,499 : INFO : EPOCH 2 - PROGRESS: at 76.23% examples, 138367 words/s, in_qsize 5, out_qsize 0\n",
            "2020-05-01 08:47:51,567 : INFO : EPOCH 2 - PROGRESS: at 77.53% examples, 138396 words/s, in_qsize 5, out_qsize 0\n",
            "2020-05-01 08:47:52,618 : INFO : EPOCH 2 - PROGRESS: at 78.83% examples, 138429 words/s, in_qsize 5, out_qsize 0\n",
            "2020-05-01 08:47:53,744 : INFO : EPOCH 2 - PROGRESS: at 80.13% examples, 138322 words/s, in_qsize 5, out_qsize 0\n",
            "2020-05-01 08:47:54,774 : INFO : EPOCH 2 - PROGRESS: at 81.43% examples, 138424 words/s, in_qsize 5, out_qsize 0\n",
            "2020-05-01 08:47:55,779 : INFO : EPOCH 2 - PROGRESS: at 82.67% examples, 138468 words/s, in_qsize 5, out_qsize 0\n",
            "2020-05-01 08:47:56,821 : INFO : EPOCH 2 - PROGRESS: at 83.91% examples, 138439 words/s, in_qsize 5, out_qsize 0\n",
            "2020-05-01 08:47:57,853 : INFO : EPOCH 2 - PROGRESS: at 85.16% examples, 138420 words/s, in_qsize 5, out_qsize 0\n",
            "2020-05-01 08:47:58,871 : INFO : EPOCH 2 - PROGRESS: at 86.34% examples, 138339 words/s, in_qsize 5, out_qsize 0\n",
            "2020-05-01 08:47:59,902 : INFO : EPOCH 2 - PROGRESS: at 87.58% examples, 138341 words/s, in_qsize 5, out_qsize 0\n",
            "2020-05-01 08:48:00,902 : INFO : EPOCH 2 - PROGRESS: at 88.82% examples, 138387 words/s, in_qsize 5, out_qsize 0\n",
            "2020-05-01 08:48:01,954 : INFO : EPOCH 2 - PROGRESS: at 90.07% examples, 138332 words/s, in_qsize 5, out_qsize 0\n",
            "2020-05-01 08:48:02,970 : INFO : EPOCH 2 - PROGRESS: at 91.31% examples, 138355 words/s, in_qsize 5, out_qsize 0\n",
            "2020-05-01 08:48:03,996 : INFO : EPOCH 2 - PROGRESS: at 92.55% examples, 138359 words/s, in_qsize 5, out_qsize 0\n",
            "2020-05-01 08:48:05,056 : INFO : EPOCH 2 - PROGRESS: at 93.79% examples, 138313 words/s, in_qsize 5, out_qsize 0\n",
            "2020-05-01 08:48:06,129 : INFO : EPOCH 2 - PROGRESS: at 95.09% examples, 138316 words/s, in_qsize 5, out_qsize 0\n",
            "2020-05-01 08:48:07,192 : INFO : EPOCH 2 - PROGRESS: at 96.39% examples, 138337 words/s, in_qsize 5, out_qsize 0\n",
            "2020-05-01 08:48:08,218 : INFO : EPOCH 2 - PROGRESS: at 97.63% examples, 138330 words/s, in_qsize 5, out_qsize 0\n",
            "2020-05-01 08:48:09,247 : INFO : EPOCH 2 - PROGRESS: at 98.88% examples, 138346 words/s, in_qsize 5, out_qsize 0\n",
            "2020-05-01 08:48:10,012 : INFO : worker thread finished; awaiting finish of 2 more threads\n",
            "2020-05-01 08:48:10,041 : INFO : worker thread finished; awaiting finish of 1 more threads\n",
            "2020-05-01 08:48:10,071 : INFO : worker thread finished; awaiting finish of 0 more threads\n",
            "2020-05-01 08:48:10,072 : INFO : EPOCH - 2 : training on 16900026 raw words (11433634 effective words) took 82.6s, 138449 effective words/s\n",
            "2020-05-01 08:48:11,156 : INFO : EPOCH 3 - PROGRESS: at 1.24% examples, 131438 words/s, in_qsize 5, out_qsize 0\n",
            "2020-05-01 08:48:12,158 : INFO : EPOCH 3 - PROGRESS: at 2.48% examples, 136087 words/s, in_qsize 5, out_qsize 0\n",
            "2020-05-01 08:48:13,199 : INFO : EPOCH 3 - PROGRESS: at 3.73% examples, 136325 words/s, in_qsize 6, out_qsize 0\n",
            "2020-05-01 08:48:14,228 : INFO : EPOCH 3 - PROGRESS: at 4.97% examples, 136875 words/s, in_qsize 5, out_qsize 0\n",
            "2020-05-01 08:48:15,245 : INFO : EPOCH 3 - PROGRESS: at 6.27% examples, 138864 words/s, in_qsize 5, out_qsize 0\n",
            "2020-05-01 08:48:16,298 : INFO : EPOCH 3 - PROGRESS: at 7.51% examples, 138237 words/s, in_qsize 5, out_qsize 0\n",
            "2020-05-01 08:48:17,343 : INFO : EPOCH 3 - PROGRESS: at 8.75% examples, 138023 words/s, in_qsize 5, out_qsize 0\n",
            "2020-05-01 08:48:18,401 : INFO : EPOCH 3 - PROGRESS: at 10.05% examples, 138280 words/s, in_qsize 5, out_qsize 0\n",
            "2020-05-01 08:48:19,500 : INFO : EPOCH 3 - PROGRESS: at 11.35% examples, 137857 words/s, in_qsize 4, out_qsize 1\n",
            "2020-05-01 08:48:20,574 : INFO : EPOCH 3 - PROGRESS: at 12.66% examples, 137963 words/s, in_qsize 4, out_qsize 1\n",
            "2020-05-01 08:48:21,586 : INFO : EPOCH 3 - PROGRESS: at 13.90% examples, 138132 words/s, in_qsize 4, out_qsize 1\n",
            "2020-05-01 08:48:22,637 : INFO : EPOCH 3 - PROGRESS: at 15.20% examples, 138364 words/s, in_qsize 5, out_qsize 0\n",
            "2020-05-01 08:48:23,694 : INFO : EPOCH 3 - PROGRESS: at 16.44% examples, 138151 words/s, in_qsize 4, out_qsize 1\n",
            "2020-05-01 08:48:24,702 : INFO : EPOCH 3 - PROGRESS: at 17.74% examples, 138780 words/s, in_qsize 5, out_qsize 0\n",
            "2020-05-01 08:48:25,721 : INFO : EPOCH 3 - PROGRESS: at 18.98% examples, 138841 words/s, in_qsize 5, out_qsize 0\n",
            "2020-05-01 08:48:26,746 : INFO : EPOCH 3 - PROGRESS: at 20.17% examples, 138368 words/s, in_qsize 4, out_qsize 1\n",
            "2020-05-01 08:48:27,828 : INFO : EPOCH 3 - PROGRESS: at 21.47% examples, 138371 words/s, in_qsize 5, out_qsize 0\n",
            "2020-05-01 08:48:28,860 : INFO : EPOCH 3 - PROGRESS: at 22.77% examples, 138670 words/s, in_qsize 5, out_qsize 0\n",
            "2020-05-01 08:48:29,881 : INFO : EPOCH 3 - PROGRESS: at 23.95% examples, 138357 words/s, in_qsize 5, out_qsize 0\n",
            "2020-05-01 08:48:30,882 : INFO : EPOCH 3 - PROGRESS: at 25.19% examples, 138511 words/s, in_qsize 5, out_qsize 0\n",
            "2020-05-01 08:48:31,895 : INFO : EPOCH 3 - PROGRESS: at 26.37% examples, 138304 words/s, in_qsize 5, out_qsize 0\n",
            "2020-05-01 08:48:32,905 : INFO : EPOCH 3 - PROGRESS: at 27.62% examples, 138369 words/s, in_qsize 5, out_qsize 0\n",
            "2020-05-01 08:48:33,924 : INFO : EPOCH 3 - PROGRESS: at 28.86% examples, 138356 words/s, in_qsize 5, out_qsize 0\n",
            "2020-05-01 08:48:34,930 : INFO : EPOCH 3 - PROGRESS: at 30.10% examples, 138484 words/s, in_qsize 5, out_qsize 0\n",
            "2020-05-01 08:48:35,937 : INFO : EPOCH 3 - PROGRESS: at 31.28% examples, 138306 words/s, in_qsize 6, out_qsize 0\n",
            "2020-05-01 08:48:36,962 : INFO : EPOCH 3 - PROGRESS: at 32.53% examples, 138327 words/s, in_qsize 5, out_qsize 0\n",
            "2020-05-01 08:48:38,031 : INFO : EPOCH 3 - PROGRESS: at 33.77% examples, 138110 words/s, in_qsize 5, out_qsize 0\n",
            "2020-05-01 08:48:39,091 : INFO : EPOCH 3 - PROGRESS: at 35.07% examples, 138192 words/s, in_qsize 6, out_qsize 0\n",
            "2020-05-01 08:48:40,150 : INFO : EPOCH 3 - PROGRESS: at 36.37% examples, 138276 words/s, in_qsize 5, out_qsize 0\n",
            "2020-05-01 08:48:41,256 : INFO : EPOCH 3 - PROGRESS: at 37.67% examples, 138129 words/s, in_qsize 5, out_qsize 0\n",
            "2020-05-01 08:48:42,277 : INFO : EPOCH 3 - PROGRESS: at 38.91% examples, 138162 words/s, in_qsize 5, out_qsize 0\n",
            "2020-05-01 08:48:43,286 : INFO : EPOCH 3 - PROGRESS: at 40.15% examples, 138239 words/s, in_qsize 5, out_qsize 0\n",
            "2020-05-01 08:48:44,327 : INFO : EPOCH 3 - PROGRESS: at 41.40% examples, 138204 words/s, in_qsize 5, out_qsize 0\n",
            "2020-05-01 08:48:45,345 : INFO : EPOCH 3 - PROGRESS: at 42.64% examples, 138255 words/s, in_qsize 5, out_qsize 0\n",
            "2020-05-01 08:48:46,355 : INFO : EPOCH 3 - PROGRESS: at 43.88% examples, 138307 words/s, in_qsize 5, out_qsize 0\n",
            "2020-05-01 08:48:47,424 : INFO : EPOCH 3 - PROGRESS: at 45.18% examples, 138306 words/s, in_qsize 5, out_qsize 0\n",
            "2020-05-01 08:48:48,455 : INFO : EPOCH 3 - PROGRESS: at 46.48% examples, 138467 words/s, in_qsize 5, out_qsize 0\n",
            "2020-05-01 08:48:49,526 : INFO : EPOCH 3 - PROGRESS: at 47.72% examples, 138294 words/s, in_qsize 5, out_qsize 0\n",
            "2020-05-01 08:48:50,583 : INFO : EPOCH 3 - PROGRESS: at 49.02% examples, 138362 words/s, in_qsize 5, out_qsize 0\n",
            "2020-05-01 08:48:51,648 : INFO : EPOCH 3 - PROGRESS: at 50.33% examples, 138417 words/s, in_qsize 5, out_qsize 0\n",
            "2020-05-01 08:48:52,680 : INFO : EPOCH 3 - PROGRESS: at 51.57% examples, 138395 words/s, in_qsize 5, out_qsize 0\n",
            "2020-05-01 08:48:53,685 : INFO : EPOCH 3 - PROGRESS: at 52.81% examples, 138480 words/s, in_qsize 5, out_qsize 0\n",
            "2020-05-01 08:48:54,721 : INFO : EPOCH 3 - PROGRESS: at 54.05% examples, 138448 words/s, in_qsize 5, out_qsize 0\n",
            "2020-05-01 08:48:55,751 : INFO : EPOCH 3 - PROGRESS: at 55.29% examples, 138467 words/s, in_qsize 5, out_qsize 1\n",
            "2020-05-01 08:48:56,829 : INFO : EPOCH 3 - PROGRESS: at 56.59% examples, 138418 words/s, in_qsize 5, out_qsize 0\n",
            "2020-05-01 08:48:57,836 : INFO : EPOCH 3 - PROGRESS: at 57.89% examples, 138614 words/s, in_qsize 5, out_qsize 0\n",
            "2020-05-01 08:48:58,854 : INFO : EPOCH 3 - PROGRESS: at 59.08% examples, 138498 words/s, in_qsize 5, out_qsize 0\n",
            "2020-05-01 08:48:59,855 : INFO : EPOCH 3 - PROGRESS: at 60.32% examples, 138572 words/s, in_qsize 5, out_qsize 0\n",
            "2020-05-01 08:49:00,938 : INFO : EPOCH 3 - PROGRESS: at 61.56% examples, 138423 words/s, in_qsize 5, out_qsize 0\n",
            "2020-05-01 08:49:01,995 : INFO : EPOCH 3 - PROGRESS: at 62.86% examples, 138471 words/s, in_qsize 5, out_qsize 0\n",
            "2020-05-01 08:49:03,040 : INFO : EPOCH 3 - PROGRESS: at 64.10% examples, 138451 words/s, in_qsize 6, out_qsize 1\n",
            "2020-05-01 08:49:04,047 : INFO : EPOCH 3 - PROGRESS: at 65.35% examples, 138471 words/s, in_qsize 5, out_qsize 0\n",
            "2020-05-01 08:49:05,070 : INFO : EPOCH 3 - PROGRESS: at 66.59% examples, 138466 words/s, in_qsize 5, out_qsize 0\n",
            "2020-05-01 08:49:06,076 : INFO : EPOCH 3 - PROGRESS: at 67.77% examples, 138395 words/s, in_qsize 5, out_qsize 0\n",
            "2020-05-01 08:49:07,118 : INFO : EPOCH 3 - PROGRESS: at 69.07% examples, 138487 words/s, in_qsize 5, out_qsize 0\n",
            "2020-05-01 08:49:08,131 : INFO : EPOCH 3 - PROGRESS: at 70.31% examples, 138530 words/s, in_qsize 6, out_qsize 0\n",
            "2020-05-01 08:49:09,201 : INFO : EPOCH 3 - PROGRESS: at 71.56% examples, 138456 words/s, in_qsize 5, out_qsize 0\n",
            "2020-05-01 08:49:10,204 : INFO : EPOCH 3 - PROGRESS: at 72.80% examples, 138500 words/s, in_qsize 5, out_qsize 0\n",
            "2020-05-01 08:49:11,257 : INFO : EPOCH 3 - PROGRESS: at 74.10% examples, 138536 words/s, in_qsize 5, out_qsize 0\n",
            "2020-05-01 08:49:12,335 : INFO : EPOCH 3 - PROGRESS: at 75.40% examples, 138505 words/s, in_qsize 5, out_qsize 0\n",
            "2020-05-01 08:49:13,347 : INFO : EPOCH 3 - PROGRESS: at 76.58% examples, 138444 words/s, in_qsize 5, out_qsize 0\n",
            "2020-05-01 08:49:14,367 : INFO : EPOCH 3 - PROGRESS: at 77.88% examples, 138559 words/s, in_qsize 6, out_qsize 0\n",
            "2020-05-01 08:49:15,404 : INFO : EPOCH 3 - PROGRESS: at 79.12% examples, 138514 words/s, in_qsize 5, out_qsize 0\n",
            "2020-05-01 08:49:16,413 : INFO : EPOCH 3 - PROGRESS: at 80.37% examples, 138556 words/s, in_qsize 5, out_qsize 0\n",
            "2020-05-01 08:49:17,532 : INFO : EPOCH 3 - PROGRESS: at 81.67% examples, 138463 words/s, in_qsize 4, out_qsize 1\n",
            "2020-05-01 08:49:18,568 : INFO : EPOCH 3 - PROGRESS: at 82.97% examples, 138536 words/s, in_qsize 5, out_qsize 0\n",
            "2020-05-01 08:49:19,613 : INFO : EPOCH 3 - PROGRESS: at 84.21% examples, 138505 words/s, in_qsize 5, out_qsize 0\n",
            "2020-05-01 08:49:20,697 : INFO : EPOCH 3 - PROGRESS: at 85.51% examples, 138473 words/s, in_qsize 5, out_qsize 0\n",
            "2020-05-01 08:49:21,702 : INFO : EPOCH 3 - PROGRESS: at 86.75% examples, 138508 words/s, in_qsize 5, out_qsize 0\n",
            "2020-05-01 08:49:22,730 : INFO : EPOCH 3 - PROGRESS: at 88.00% examples, 138507 words/s, in_qsize 5, out_qsize 0\n",
            "2020-05-01 08:49:23,739 : INFO : EPOCH 3 - PROGRESS: at 89.24% examples, 138532 words/s, in_qsize 5, out_qsize 0\n",
            "2020-05-01 08:49:24,802 : INFO : EPOCH 3 - PROGRESS: at 90.48% examples, 138461 words/s, in_qsize 5, out_qsize 0\n",
            "2020-05-01 08:49:25,814 : INFO : EPOCH 3 - PROGRESS: at 91.72% examples, 138484 words/s, in_qsize 4, out_qsize 1\n",
            "2020-05-01 08:49:26,836 : INFO : EPOCH 3 - PROGRESS: at 92.96% examples, 138492 words/s, in_qsize 5, out_qsize 0\n",
            "2020-05-01 08:49:27,865 : INFO : EPOCH 3 - PROGRESS: at 94.20% examples, 138502 words/s, in_qsize 5, out_qsize 0\n",
            "2020-05-01 08:49:28,881 : INFO : EPOCH 3 - PROGRESS: at 95.45% examples, 138520 words/s, in_qsize 5, out_qsize 0\n",
            "2020-05-01 08:49:29,954 : INFO : EPOCH 3 - PROGRESS: at 96.69% examples, 138445 words/s, in_qsize 5, out_qsize 1\n",
            "2020-05-01 08:49:30,983 : INFO : EPOCH 3 - PROGRESS: at 97.99% examples, 138515 words/s, in_qsize 5, out_qsize 0\n",
            "2020-05-01 08:49:31,998 : INFO : EPOCH 3 - PROGRESS: at 99.23% examples, 138538 words/s, in_qsize 5, out_qsize 0\n",
            "2020-05-01 08:49:32,476 : INFO : worker thread finished; awaiting finish of 2 more threads\n",
            "2020-05-01 08:49:32,489 : INFO : worker thread finished; awaiting finish of 1 more threads\n",
            "2020-05-01 08:49:32,541 : INFO : worker thread finished; awaiting finish of 0 more threads\n",
            "2020-05-01 08:49:32,542 : INFO : EPOCH - 3 : training on 16900026 raw words (11431096 effective words) took 82.5s, 138618 effective words/s\n",
            "2020-05-01 08:49:33,557 : INFO : EPOCH 4 - PROGRESS: at 1.18% examples, 133791 words/s, in_qsize 5, out_qsize 0\n",
            "2020-05-01 08:49:34,560 : INFO : EPOCH 4 - PROGRESS: at 2.42% examples, 137375 words/s, in_qsize 5, out_qsize 0\n",
            "2020-05-01 08:49:35,595 : INFO : EPOCH 4 - PROGRESS: at 3.61% examples, 135197 words/s, in_qsize 6, out_qsize 1\n",
            "2020-05-01 08:49:36,672 : INFO : EPOCH 4 - PROGRESS: at 4.91% examples, 136143 words/s, in_qsize 5, out_qsize 0\n",
            "2020-05-01 08:49:37,697 : INFO : EPOCH 4 - PROGRESS: at 6.15% examples, 136716 words/s, in_qsize 4, out_qsize 1\n",
            "2020-05-01 08:49:38,700 : INFO : EPOCH 4 - PROGRESS: at 7.39% examples, 137565 words/s, in_qsize 5, out_qsize 0\n",
            "2020-05-01 08:49:39,743 : INFO : EPOCH 4 - PROGRESS: at 8.63% examples, 137432 words/s, in_qsize 5, out_qsize 0\n",
            "2020-05-01 08:49:40,789 : INFO : EPOCH 4 - PROGRESS: at 9.93% examples, 137962 words/s, in_qsize 5, out_qsize 0\n",
            "2020-05-01 08:49:41,883 : INFO : EPOCH 4 - PROGRESS: at 11.24% examples, 137567 words/s, in_qsize 5, out_qsize 0\n",
            "2020-05-01 08:49:42,893 : INFO : EPOCH 4 - PROGRESS: at 12.48% examples, 137938 words/s, in_qsize 5, out_qsize 0\n",
            "2020-05-01 08:49:43,939 : INFO : EPOCH 4 - PROGRESS: at 13.78% examples, 138320 words/s, in_qsize 5, out_qsize 0\n",
            "2020-05-01 08:49:44,949 : INFO : EPOCH 4 - PROGRESS: at 15.02% examples, 138454 words/s, in_qsize 5, out_qsize 0\n",
            "2020-05-01 08:49:45,993 : INFO : EPOCH 4 - PROGRESS: at 16.26% examples, 138364 words/s, in_qsize 5, out_qsize 0\n",
            "2020-05-01 08:49:47,092 : INFO : EPOCH 4 - PROGRESS: at 17.56% examples, 138149 words/s, in_qsize 5, out_qsize 0\n",
            "2020-05-01 08:49:48,152 : INFO : EPOCH 4 - PROGRESS: at 18.81% examples, 137891 words/s, in_qsize 3, out_qsize 2\n",
            "2020-05-01 08:49:49,163 : INFO : EPOCH 4 - PROGRESS: at 20.11% examples, 138402 words/s, in_qsize 5, out_qsize 0\n",
            "2020-05-01 08:49:50,174 : INFO : EPOCH 4 - PROGRESS: at 21.29% examples, 138213 words/s, in_qsize 5, out_qsize 0\n",
            "2020-05-01 08:49:51,229 : INFO : EPOCH 4 - PROGRESS: at 22.53% examples, 137998 words/s, in_qsize 5, out_qsize 1\n",
            "2020-05-01 08:49:52,251 : INFO : EPOCH 4 - PROGRESS: at 23.83% examples, 138404 words/s, in_qsize 5, out_qsize 0\n",
            "2020-05-01 08:49:53,302 : INFO : EPOCH 4 - PROGRESS: at 25.07% examples, 138225 words/s, in_qsize 5, out_qsize 0\n",
            "2020-05-01 08:49:54,377 : INFO : EPOCH 4 - PROGRESS: at 26.37% examples, 138221 words/s, in_qsize 5, out_qsize 0\n",
            "2020-05-01 08:49:55,416 : INFO : EPOCH 4 - PROGRESS: at 27.62% examples, 138120 words/s, in_qsize 5, out_qsize 0\n",
            "2020-05-01 08:49:56,512 : INFO : EPOCH 4 - PROGRESS: at 28.98% examples, 138244 words/s, in_qsize 5, out_qsize 0\n",
            "2020-05-01 08:49:57,527 : INFO : EPOCH 4 - PROGRESS: at 30.22% examples, 138320 words/s, in_qsize 6, out_qsize 0\n",
            "2020-05-01 08:49:58,577 : INFO : EPOCH 4 - PROGRESS: at 31.46% examples, 138188 words/s, in_qsize 5, out_qsize 0\n",
            "2020-05-01 08:49:59,594 : INFO : EPOCH 4 - PROGRESS: at 32.70% examples, 138258 words/s, in_qsize 5, out_qsize 0\n",
            "2020-05-01 08:50:00,635 : INFO : EPOCH 4 - PROGRESS: at 33.94% examples, 138190 words/s, in_qsize 5, out_qsize 0\n",
            "2020-05-01 08:50:01,639 : INFO : EPOCH 4 - PROGRESS: at 35.19% examples, 138303 words/s, in_qsize 5, out_qsize 0\n",
            "2020-05-01 08:50:02,690 : INFO : EPOCH 4 - PROGRESS: at 36.43% examples, 138199 words/s, in_qsize 5, out_qsize 0\n",
            "2020-05-01 08:50:03,777 : INFO : EPOCH 4 - PROGRESS: at 37.73% examples, 138153 words/s, in_qsize 5, out_qsize 0\n",
            "2020-05-01 08:50:04,788 : INFO : EPOCH 4 - PROGRESS: at 38.97% examples, 138221 words/s, in_qsize 5, out_qsize 0\n",
            "2020-05-01 08:50:05,805 : INFO : EPOCH 4 - PROGRESS: at 40.21% examples, 138270 words/s, in_qsize 5, out_qsize 0\n",
            "2020-05-01 08:50:06,859 : INFO : EPOCH 4 - PROGRESS: at 41.45% examples, 138171 words/s, in_qsize 6, out_qsize 0\n",
            "2020-05-01 08:50:07,934 : INFO : EPOCH 4 - PROGRESS: at 42.76% examples, 138199 words/s, in_qsize 6, out_qsize 0\n",
            "2020-05-01 08:50:08,985 : INFO : EPOCH 4 - PROGRESS: at 44.06% examples, 138282 words/s, in_qsize 5, out_qsize 0\n",
            "2020-05-01 08:50:10,054 : INFO : EPOCH 4 - PROGRESS: at 45.36% examples, 138287 words/s, in_qsize 5, out_qsize 0\n",
            "2020-05-01 08:50:11,107 : INFO : EPOCH 4 - PROGRESS: at 46.66% examples, 138366 words/s, in_qsize 5, out_qsize 0\n",
            "2020-05-01 08:50:12,127 : INFO : EPOCH 4 - PROGRESS: at 47.90% examples, 138377 words/s, in_qsize 5, out_qsize 0\n",
            "2020-05-01 08:50:13,205 : INFO : EPOCH 4 - PROGRESS: at 49.20% examples, 138380 words/s, in_qsize 6, out_qsize 0\n",
            "2020-05-01 08:50:14,232 : INFO : EPOCH 4 - PROGRESS: at 50.44% examples, 138393 words/s, in_qsize 5, out_qsize 0\n",
            "2020-05-01 08:50:15,233 : INFO : EPOCH 4 - PROGRESS: at 51.63% examples, 138310 words/s, in_qsize 5, out_qsize 0\n",
            "2020-05-01 08:50:16,255 : INFO : EPOCH 4 - PROGRESS: at 52.87% examples, 138351 words/s, in_qsize 5, out_qsize 0\n",
            "2020-05-01 08:50:17,262 : INFO : EPOCH 4 - PROGRESS: at 54.11% examples, 138409 words/s, in_qsize 5, out_qsize 0\n",
            "2020-05-01 08:50:18,319 : INFO : EPOCH 4 - PROGRESS: at 55.35% examples, 138306 words/s, in_qsize 5, out_qsize 0\n",
            "2020-05-01 08:50:19,359 : INFO : EPOCH 4 - PROGRESS: at 56.65% examples, 138412 words/s, in_qsize 5, out_qsize 0\n",
            "2020-05-01 08:50:20,368 : INFO : EPOCH 4 - PROGRESS: at 57.89% examples, 138463 words/s, in_qsize 5, out_qsize 0\n",
            "2020-05-01 08:50:21,452 : INFO : EPOCH 4 - PROGRESS: at 59.20% examples, 138438 words/s, in_qsize 5, out_qsize 0\n",
            "2020-05-01 08:50:22,459 : INFO : EPOCH 4 - PROGRESS: at 60.38% examples, 138363 words/s, in_qsize 5, out_qsize 0\n",
            "2020-05-01 08:50:23,472 : INFO : EPOCH 4 - PROGRESS: at 61.62% examples, 138408 words/s, in_qsize 5, out_qsize 0\n",
            "2020-05-01 08:50:24,479 : INFO : EPOCH 4 - PROGRESS: at 62.86% examples, 138464 words/s, in_qsize 5, out_qsize 0\n",
            "2020-05-01 08:50:25,544 : INFO : EPOCH 4 - PROGRESS: at 64.10% examples, 138358 words/s, in_qsize 5, out_qsize 0\n",
            "2020-05-01 08:50:26,560 : INFO : EPOCH 4 - PROGRESS: at 65.35% examples, 138389 words/s, in_qsize 5, out_qsize 0\n",
            "2020-05-01 08:50:27,649 : INFO : EPOCH 4 - PROGRESS: at 66.65% examples, 138339 words/s, in_qsize 5, out_qsize 0\n",
            "2020-05-01 08:50:28,687 : INFO : EPOCH 4 - PROGRESS: at 67.89% examples, 138312 words/s, in_qsize 5, out_qsize 0\n",
            "2020-05-01 08:50:29,718 : INFO : EPOCH 4 - PROGRESS: at 69.13% examples, 138314 words/s, in_qsize 4, out_qsize 1\n",
            "2020-05-01 08:50:30,723 : INFO : EPOCH 4 - PROGRESS: at 70.37% examples, 138385 words/s, in_qsize 5, out_qsize 0\n",
            "2020-05-01 08:50:31,770 : INFO : EPOCH 4 - PROGRESS: at 71.61% examples, 138355 words/s, in_qsize 5, out_qsize 0\n",
            "2020-05-01 08:50:32,772 : INFO : EPOCH 4 - PROGRESS: at 72.86% examples, 138403 words/s, in_qsize 6, out_qsize 0\n",
            "2020-05-01 08:50:33,785 : INFO : EPOCH 4 - PROGRESS: at 74.04% examples, 138313 words/s, in_qsize 5, out_qsize 0\n",
            "2020-05-01 08:50:34,851 : INFO : EPOCH 4 - PROGRESS: at 75.34% examples, 138312 words/s, in_qsize 5, out_qsize 0\n",
            "2020-05-01 08:50:35,969 : INFO : EPOCH 4 - PROGRESS: at 76.64% examples, 138228 words/s, in_qsize 5, out_qsize 0\n",
            "2020-05-01 08:50:36,994 : INFO : EPOCH 4 - PROGRESS: at 77.88% examples, 138235 words/s, in_qsize 5, out_qsize 0\n",
            "2020-05-01 08:50:38,024 : INFO : EPOCH 4 - PROGRESS: at 79.12% examples, 138215 words/s, in_qsize 5, out_qsize 0\n",
            "2020-05-01 08:50:39,069 : INFO : EPOCH 4 - PROGRESS: at 80.37% examples, 138186 words/s, in_qsize 5, out_qsize 0\n",
            "2020-05-01 08:50:40,080 : INFO : EPOCH 4 - PROGRESS: at 81.61% examples, 138223 words/s, in_qsize 6, out_qsize 0\n",
            "2020-05-01 08:50:41,160 : INFO : EPOCH 4 - PROGRESS: at 82.85% examples, 138115 words/s, in_qsize 5, out_qsize 0\n",
            "2020-05-01 08:50:42,173 : INFO : EPOCH 4 - PROGRESS: at 84.09% examples, 138150 words/s, in_qsize 5, out_qsize 0\n",
            "2020-05-01 08:50:43,216 : INFO : EPOCH 4 - PROGRESS: at 85.33% examples, 138112 words/s, in_qsize 5, out_qsize 0\n",
            "2020-05-01 08:50:44,240 : INFO : EPOCH 4 - PROGRESS: at 86.58% examples, 138116 words/s, in_qsize 5, out_qsize 0\n",
            "2020-05-01 08:50:45,289 : INFO : EPOCH 4 - PROGRESS: at 87.82% examples, 138086 words/s, in_qsize 5, out_qsize 0\n",
            "2020-05-01 08:50:46,357 : INFO : EPOCH 4 - PROGRESS: at 89.12% examples, 138098 words/s, in_qsize 5, out_qsize 0\n",
            "2020-05-01 08:50:47,410 : INFO : EPOCH 4 - PROGRESS: at 90.42% examples, 138139 words/s, in_qsize 5, out_qsize 0\n",
            "2020-05-01 08:50:48,440 : INFO : EPOCH 4 - PROGRESS: at 91.66% examples, 138131 words/s, in_qsize 5, out_qsize 0\n",
            "2020-05-01 08:50:49,451 : INFO : EPOCH 4 - PROGRESS: at 92.90% examples, 138163 words/s, in_qsize 5, out_qsize 0\n",
            "2020-05-01 08:50:50,483 : INFO : EPOCH 4 - PROGRESS: at 94.15% examples, 138169 words/s, in_qsize 5, out_qsize 0\n",
            "2020-05-01 08:50:51,561 : INFO : EPOCH 4 - PROGRESS: at 95.45% examples, 138164 words/s, in_qsize 5, out_qsize 0\n",
            "2020-05-01 08:50:52,591 : INFO : EPOCH 4 - PROGRESS: at 96.69% examples, 138159 words/s, in_qsize 5, out_qsize 0\n",
            "2020-05-01 08:50:53,655 : INFO : EPOCH 4 - PROGRESS: at 97.99% examples, 138182 words/s, in_qsize 5, out_qsize 0\n",
            "2020-05-01 08:50:54,684 : INFO : EPOCH 4 - PROGRESS: at 99.23% examples, 138194 words/s, in_qsize 5, out_qsize 0\n",
            "2020-05-01 08:50:55,138 : INFO : worker thread finished; awaiting finish of 2 more threads\n",
            "2020-05-01 08:50:55,192 : INFO : worker thread finished; awaiting finish of 1 more threads\n",
            "2020-05-01 08:50:55,219 : INFO : worker thread finished; awaiting finish of 0 more threads\n",
            "2020-05-01 08:50:55,220 : INFO : EPOCH - 4 : training on 16900026 raw words (11432459 effective words) took 82.7s, 138288 effective words/s\n",
            "2020-05-01 08:50:56,294 : INFO : EPOCH 5 - PROGRESS: at 1.18% examples, 126670 words/s, in_qsize 5, out_qsize 0\n",
            "2020-05-01 08:50:57,303 : INFO : EPOCH 5 - PROGRESS: at 2.42% examples, 133275 words/s, in_qsize 5, out_qsize 0\n",
            "2020-05-01 08:50:58,311 : INFO : EPOCH 5 - PROGRESS: at 3.67% examples, 135801 words/s, in_qsize 5, out_qsize 0\n",
            "2020-05-01 08:50:59,321 : INFO : EPOCH 5 - PROGRESS: at 4.91% examples, 137126 words/s, in_qsize 6, out_qsize 0\n",
            "2020-05-01 08:51:00,352 : INFO : EPOCH 5 - PROGRESS: at 6.09% examples, 136090 words/s, in_qsize 5, out_qsize 0\n",
            "2020-05-01 08:51:01,365 : INFO : EPOCH 5 - PROGRESS: at 7.33% examples, 136886 words/s, in_qsize 5, out_qsize 0\n",
            "2020-05-01 08:51:02,393 : INFO : EPOCH 5 - PROGRESS: at 8.57% examples, 137124 words/s, in_qsize 5, out_qsize 0\n",
            "2020-05-01 08:51:03,469 : INFO : EPOCH 5 - PROGRESS: at 9.88% examples, 137249 words/s, in_qsize 5, out_qsize 0\n",
            "2020-05-01 08:51:04,538 : INFO : EPOCH 5 - PROGRESS: at 11.18% examples, 137294 words/s, in_qsize 5, out_qsize 0\n",
            "2020-05-01 08:51:05,558 : INFO : EPOCH 5 - PROGRESS: at 12.48% examples, 138186 words/s, in_qsize 5, out_qsize 0\n",
            "2020-05-01 08:51:06,602 : INFO : EPOCH 5 - PROGRESS: at 13.66% examples, 137364 words/s, in_qsize 5, out_qsize 0\n",
            "2020-05-01 08:51:07,688 : INFO : EPOCH 5 - PROGRESS: at 14.96% examples, 137293 words/s, in_qsize 5, out_qsize 0\n",
            "2020-05-01 08:51:08,764 : INFO : EPOCH 5 - PROGRESS: at 16.26% examples, 137461 words/s, in_qsize 5, out_qsize 0\n",
            "2020-05-01 08:51:09,778 : INFO : EPOCH 5 - PROGRESS: at 17.50% examples, 137641 words/s, in_qsize 5, out_qsize 0\n",
            "2020-05-01 08:51:10,839 : INFO : EPOCH 5 - PROGRESS: at 18.81% examples, 137841 words/s, in_qsize 5, out_qsize 0\n",
            "2020-05-01 08:51:11,920 : INFO : EPOCH 5 - PROGRESS: at 20.11% examples, 137798 words/s, in_qsize 5, out_qsize 0\n",
            "2020-05-01 08:51:12,942 : INFO : EPOCH 5 - PROGRESS: at 21.35% examples, 137924 words/s, in_qsize 5, out_qsize 0\n",
            "2020-05-01 08:51:13,995 : INFO : EPOCH 5 - PROGRESS: at 22.59% examples, 137743 words/s, in_qsize 5, out_qsize 0\n",
            "2020-05-01 08:51:15,029 : INFO : EPOCH 5 - PROGRESS: at 23.83% examples, 137716 words/s, in_qsize 5, out_qsize 0\n",
            "2020-05-01 08:51:16,064 : INFO : EPOCH 5 - PROGRESS: at 25.13% examples, 138010 words/s, in_qsize 5, out_qsize 0\n",
            "2020-05-01 08:51:17,108 : INFO : EPOCH 5 - PROGRESS: at 26.37% examples, 137924 words/s, in_qsize 5, out_qsize 0\n",
            "2020-05-01 08:51:18,198 : INFO : EPOCH 5 - PROGRESS: at 27.68% examples, 137827 words/s, in_qsize 5, out_qsize 0\n",
            "2020-05-01 08:51:19,207 : INFO : EPOCH 5 - PROGRESS: at 28.92% examples, 137917 words/s, in_qsize 5, out_qsize 0\n",
            "2020-05-01 08:51:20,243 : INFO : EPOCH 5 - PROGRESS: at 30.16% examples, 137880 words/s, in_qsize 5, out_qsize 0\n",
            "2020-05-01 08:51:21,298 : INFO : EPOCH 5 - PROGRESS: at 31.40% examples, 137808 words/s, in_qsize 5, out_qsize 0\n",
            "2020-05-01 08:51:22,342 : INFO : EPOCH 5 - PROGRESS: at 32.70% examples, 137934 words/s, in_qsize 5, out_qsize 0\n",
            "2020-05-01 08:51:23,348 : INFO : EPOCH 5 - PROGRESS: at 33.94% examples, 138043 words/s, in_qsize 5, out_qsize 0\n",
            "2020-05-01 08:51:24,350 : INFO : EPOCH 5 - PROGRESS: at 35.19% examples, 138169 words/s, in_qsize 5, out_qsize 0\n",
            "2020-05-01 08:51:25,362 : INFO : EPOCH 5 - PROGRESS: at 36.37% examples, 138023 words/s, in_qsize 5, out_qsize 0\n",
            "2020-05-01 08:51:26,386 : INFO : EPOCH 5 - PROGRESS: at 37.61% examples, 138031 words/s, in_qsize 5, out_qsize 0\n",
            "2020-05-01 08:51:27,406 : INFO : EPOCH 5 - PROGRESS: at 38.85% examples, 138078 words/s, in_qsize 5, out_qsize 0\n",
            "2020-05-01 08:51:28,414 : INFO : EPOCH 5 - PROGRESS: at 40.09% examples, 138162 words/s, in_qsize 5, out_qsize 0\n",
            "2020-05-01 08:51:29,425 : INFO : EPOCH 5 - PROGRESS: at 41.28% examples, 138030 words/s, in_qsize 5, out_qsize 0\n",
            "2020-05-01 08:51:30,446 : INFO : EPOCH 5 - PROGRESS: at 42.46% examples, 137892 words/s, in_qsize 4, out_qsize 1\n",
            "2020-05-01 08:51:31,477 : INFO : EPOCH 5 - PROGRESS: at 43.76% examples, 138058 words/s, in_qsize 5, out_qsize 0\n",
            "2020-05-01 08:51:32,549 : INFO : EPOCH 5 - PROGRESS: at 45.06% examples, 138053 words/s, in_qsize 5, out_qsize 0\n",
            "2020-05-01 08:51:33,555 : INFO : EPOCH 5 - PROGRESS: at 46.30% examples, 138121 words/s, in_qsize 6, out_qsize 0\n",
            "2020-05-01 08:51:34,602 : INFO : EPOCH 5 - PROGRESS: at 47.55% examples, 138042 words/s, in_qsize 5, out_qsize 0\n",
            "2020-05-01 08:51:35,663 : INFO : EPOCH 5 - PROGRESS: at 48.85% examples, 138107 words/s, in_qsize 5, out_qsize 0\n",
            "2020-05-01 08:51:36,667 : INFO : EPOCH 5 - PROGRESS: at 50.09% examples, 138201 words/s, in_qsize 5, out_qsize 0\n",
            "2020-05-01 08:51:37,711 : INFO : EPOCH 5 - PROGRESS: at 51.33% examples, 138148 words/s, in_qsize 5, out_qsize 0\n",
            "2020-05-01 08:51:38,798 : INFO : EPOCH 5 - PROGRESS: at 52.63% examples, 138131 words/s, in_qsize 5, out_qsize 0\n",
            "2020-05-01 08:51:39,905 : INFO : EPOCH 5 - PROGRESS: at 53.93% examples, 138043 words/s, in_qsize 4, out_qsize 1\n",
            "2020-05-01 08:51:40,906 : INFO : EPOCH 5 - PROGRESS: at 55.17% examples, 138117 words/s, in_qsize 5, out_qsize 0\n",
            "2020-05-01 08:51:41,945 : INFO : EPOCH 5 - PROGRESS: at 56.42% examples, 138078 words/s, in_qsize 4, out_qsize 1\n",
            "2020-05-01 08:51:42,975 : INFO : EPOCH 5 - PROGRESS: at 57.72% examples, 138216 words/s, in_qsize 5, out_qsize 0\n",
            "2020-05-01 08:51:44,010 : INFO : EPOCH 5 - PROGRESS: at 58.96% examples, 138204 words/s, in_qsize 5, out_qsize 0\n",
            "2020-05-01 08:51:45,073 : INFO : EPOCH 5 - PROGRESS: at 60.20% examples, 138124 words/s, in_qsize 5, out_qsize 0\n",
            "2020-05-01 08:51:46,081 : INFO : EPOCH 5 - PROGRESS: at 61.44% examples, 138185 words/s, in_qsize 5, out_qsize 0\n",
            "2020-05-01 08:51:47,089 : INFO : EPOCH 5 - PROGRESS: at 62.68% examples, 138231 words/s, in_qsize 5, out_qsize 0\n",
            "2020-05-01 08:51:48,125 : INFO : EPOCH 5 - PROGRESS: at 63.93% examples, 138214 words/s, in_qsize 5, out_qsize 0\n",
            "2020-05-01 08:51:49,140 : INFO : EPOCH 5 - PROGRESS: at 65.11% examples, 138130 words/s, in_qsize 5, out_qsize 0\n",
            "2020-05-01 08:51:50,163 : INFO : EPOCH 5 - PROGRESS: at 66.35% examples, 138127 words/s, in_qsize 5, out_qsize 0\n",
            "2020-05-01 08:51:51,217 : INFO : EPOCH 5 - PROGRESS: at 67.59% examples, 138065 words/s, in_qsize 5, out_qsize 0\n",
            "2020-05-01 08:51:52,221 : INFO : EPOCH 5 - PROGRESS: at 68.84% examples, 138134 words/s, in_qsize 5, out_qsize 0\n",
            "2020-05-01 08:51:53,259 : INFO : EPOCH 5 - PROGRESS: at 70.08% examples, 138133 words/s, in_qsize 5, out_qsize 0\n",
            "2020-05-01 08:51:54,282 : INFO : EPOCH 5 - PROGRESS: at 71.32% examples, 138167 words/s, in_qsize 5, out_qsize 0\n",
            "2020-05-01 08:51:55,322 : INFO : EPOCH 5 - PROGRESS: at 72.56% examples, 138131 words/s, in_qsize 5, out_qsize 0\n",
            "2020-05-01 08:51:56,357 : INFO : EPOCH 5 - PROGRESS: at 73.80% examples, 138114 words/s, in_qsize 5, out_qsize 0\n",
            "2020-05-01 08:51:57,373 : INFO : EPOCH 5 - PROGRESS: at 75.04% examples, 138121 words/s, in_qsize 5, out_qsize 0\n",
            "2020-05-01 08:51:58,399 : INFO : EPOCH 5 - PROGRESS: at 76.29% examples, 138127 words/s, in_qsize 5, out_qsize 0\n",
            "2020-05-01 08:51:59,415 : INFO : EPOCH 5 - PROGRESS: at 77.47% examples, 138059 words/s, in_qsize 5, out_qsize 0\n",
            "2020-05-01 08:52:00,430 : INFO : EPOCH 5 - PROGRESS: at 78.65% examples, 137977 words/s, in_qsize 5, out_qsize 0\n",
            "2020-05-01 08:52:01,451 : INFO : EPOCH 5 - PROGRESS: at 79.95% examples, 138087 words/s, in_qsize 5, out_qsize 0\n",
            "2020-05-01 08:52:02,466 : INFO : EPOCH 5 - PROGRESS: at 81.19% examples, 138122 words/s, in_qsize 5, out_qsize 0\n",
            "2020-05-01 08:52:03,531 : INFO : EPOCH 5 - PROGRESS: at 82.44% examples, 138050 words/s, in_qsize 5, out_qsize 0\n",
            "2020-05-01 08:52:04,637 : INFO : EPOCH 5 - PROGRESS: at 83.74% examples, 138016 words/s, in_qsize 6, out_qsize 2\n",
            "2020-05-01 08:52:05,669 : INFO : EPOCH 5 - PROGRESS: at 85.04% examples, 138083 words/s, in_qsize 5, out_qsize 0\n",
            "2020-05-01 08:52:06,755 : INFO : EPOCH 5 - PROGRESS: at 86.34% examples, 138059 words/s, in_qsize 5, out_qsize 0\n",
            "2020-05-01 08:52:07,756 : INFO : EPOCH 5 - PROGRESS: at 87.58% examples, 138120 words/s, in_qsize 5, out_qsize 0\n",
            "2020-05-01 08:52:08,763 : INFO : EPOCH 5 - PROGRESS: at 88.82% examples, 138151 words/s, in_qsize 5, out_qsize 0\n",
            "2020-05-01 08:52:09,873 : INFO : EPOCH 5 - PROGRESS: at 90.12% examples, 138085 words/s, in_qsize 5, out_qsize 0\n",
            "2020-05-01 08:52:10,963 : INFO : EPOCH 5 - PROGRESS: at 91.43% examples, 138065 words/s, in_qsize 5, out_qsize 0\n",
            "2020-05-01 08:52:12,007 : INFO : EPOCH 5 - PROGRESS: at 92.73% examples, 138127 words/s, in_qsize 5, out_qsize 0\n",
            "2020-05-01 08:52:13,072 : INFO : EPOCH 5 - PROGRESS: at 94.03% examples, 138166 words/s, in_qsize 5, out_qsize 0\n",
            "2020-05-01 08:52:14,177 : INFO : EPOCH 5 - PROGRESS: at 95.33% examples, 138113 words/s, in_qsize 5, out_qsize 0\n",
            "2020-05-01 08:52:15,239 : INFO : EPOCH 5 - PROGRESS: at 96.63% examples, 138142 words/s, in_qsize 5, out_qsize 0\n",
            "2020-05-01 08:52:16,289 : INFO : EPOCH 5 - PROGRESS: at 97.93% examples, 138207 words/s, in_qsize 5, out_qsize 0\n",
            "2020-05-01 08:52:17,288 : INFO : EPOCH 5 - PROGRESS: at 99.17% examples, 138245 words/s, in_qsize 5, out_qsize 0\n",
            "2020-05-01 08:52:17,788 : INFO : worker thread finished; awaiting finish of 2 more threads\n",
            "2020-05-01 08:52:17,874 : INFO : worker thread finished; awaiting finish of 1 more threads\n",
            "2020-05-01 08:52:17,885 : INFO : worker thread finished; awaiting finish of 0 more threads\n",
            "2020-05-01 08:52:17,886 : INFO : EPOCH - 5 : training on 16900026 raw words (11433507 effective words) took 82.7s, 138321 effective words/s\n",
            "2020-05-01 08:52:17,888 : INFO : training on a 84500130 raw words (57163472 effective words) took 413.0s, 138414 effective words/s\n"
          ],
          "name": "stderr"
        }
      ]
    },
    {
      "cell_type": "code",
      "metadata": {
        "id": "XTqoo9DUcnYQ",
        "colab_type": "code",
        "colab": {}
      },
      "source": [
        "!mkdir models"
      ],
      "execution_count": 0,
      "outputs": []
    },
    {
      "cell_type": "code",
      "metadata": {
        "id": "rWDNYcijaRfe",
        "colab_type": "code",
        "colab": {
          "base_uri": "https://localhost:8080/",
          "height": 139
        },
        "outputId": "720f5b15-dbe1-4c49-95f4-67db3b31ce1d"
      },
      "source": [
        "model.save('models/model.bin')"
      ],
      "execution_count": 9,
      "outputs": [
        {
          "output_type": "stream",
          "text": [
            "2020-05-01 08:55:36,038 : INFO : saving Word2Vec object under models/model.bin, separately None\n",
            "2020-05-01 08:55:36,040 : INFO : not storing attribute vectors_norm\n",
            "2020-05-01 08:55:36,041 : INFO : not storing attribute cum_table\n",
            "/usr/local/lib/python3.6/dist-packages/smart_open/smart_open_lib.py:253: UserWarning: This function is deprecated, use smart_open.open instead. See the migration notes for details: https://github.com/RaRe-Technologies/smart_open/blob/master/README.rst#migrating-to-the-new-open-function\n",
            "  'See the migration notes for details: %s' % _MIGRATION_NOTES_URL\n",
            "2020-05-01 08:55:37,096 : INFO : saved models/model.bin\n"
          ],
          "name": "stderr"
        }
      ]
    },
    {
      "cell_type": "code",
      "metadata": {
        "id": "0XmOxt2pcjwm",
        "colab_type": "code",
        "colab": {
          "base_uri": "https://localhost:8080/",
          "height": 190
        },
        "outputId": "c65e3116-4020-4079-db23-569abed0d46e"
      },
      "source": [
        "model = Word2Vec.load('models/model.bin')"
      ],
      "execution_count": 11,
      "outputs": [
        {
          "output_type": "stream",
          "text": [
            "2020-05-01 08:56:15,266 : INFO : loading Word2Vec object from models/model.bin\n",
            "/usr/local/lib/python3.6/dist-packages/smart_open/smart_open_lib.py:253: UserWarning: This function is deprecated, use smart_open.open instead. See the migration notes for details: https://github.com/RaRe-Technologies/smart_open/blob/master/README.rst#migrating-to-the-new-open-function\n",
            "  'See the migration notes for details: %s' % _MIGRATION_NOTES_URL\n",
            "2020-05-01 08:56:16,037 : INFO : loading wv recursively from models/model.bin.wv.* with mmap=None\n",
            "2020-05-01 08:56:16,038 : INFO : setting ignored attribute vectors_norm to None\n",
            "2020-05-01 08:56:16,040 : INFO : loading vocabulary recursively from models/model.bin.vocabulary.* with mmap=None\n",
            "2020-05-01 08:56:16,040 : INFO : loading trainables recursively from models/model.bin.trainables.* with mmap=None\n",
            "2020-05-01 08:56:16,041 : INFO : setting ignored attribute cum_table to None\n",
            "2020-05-01 08:56:16,043 : INFO : loaded models/model.bin\n"
          ],
          "name": "stderr"
        }
      ]
    },
    {
      "cell_type": "code",
      "metadata": {
        "id": "_RCaxLlZc0f8",
        "colab_type": "code",
        "colab": {
          "base_uri": "https://localhost:8080/",
          "height": 493
        },
        "outputId": "eebc4877-a856-4d02-82a5-9f68ee186f23"
      },
      "source": [
        "model['猫']"
      ],
      "execution_count": 12,
      "outputs": [
        {
          "output_type": "stream",
          "text": [
            "/usr/local/lib/python3.6/dist-packages/ipykernel_launcher.py:1: DeprecationWarning: Call to deprecated `__getitem__` (Method will be removed in 4.0.0, use self.wv.__getitem__() instead).\n",
            "  \"\"\"Entry point for launching an IPython kernel.\n"
          ],
          "name": "stderr"
        },
        {
          "output_type": "execute_result",
          "data": {
            "text/plain": [
              "array([-1.95740134e-01, -4.49366897e-01, -6.27162829e-02,  2.43247643e-01,\n",
              "        2.40214430e-02,  1.88937902e-01,  4.91947562e-01,  4.74341139e-02,\n",
              "       -1.04994014e-01,  5.93086600e-01,  2.24802390e-01, -9.12109092e-02,\n",
              "       -1.55485347e-01,  2.45322570e-01, -3.27966452e-01,  1.44817084e-01,\n",
              "       -3.13197792e-01, -2.57390857e-01,  3.11268747e-01, -8.66384357e-02,\n",
              "       -2.94355359e-02, -2.42598280e-01,  4.32277411e-01, -5.30347705e-01,\n",
              "       -3.50167826e-02,  1.54064551e-01,  1.76826954e-01, -5.98158658e-01,\n",
              "        3.44235837e-01, -2.10149080e-01,  1.08541235e-01,  3.75646353e-02,\n",
              "       -1.85881853e-01, -3.69088620e-01,  5.44725597e-01, -2.96597362e-01,\n",
              "        1.26516968e-02, -5.05909503e-01,  3.50692034e-01, -1.48881882e-01,\n",
              "       -4.01193202e-02, -2.41040558e-01, -6.80576414e-02, -3.32566351e-01,\n",
              "       -3.47113222e-01, -3.76031876e-01,  1.66486856e-03,  3.62486929e-01,\n",
              "        6.74671903e-02,  4.29311663e-01,  2.00888857e-01, -9.40890610e-02,\n",
              "        1.89835861e-01,  7.77213722e-02,  3.48985523e-01, -6.84729874e-01,\n",
              "        5.18943630e-02, -2.76499003e-01,  5.39432824e-01, -1.18960598e-02,\n",
              "       -2.71497607e-01, -5.19249499e-01, -4.90718365e-01,  4.88969564e-01,\n",
              "        1.68465182e-01, -3.04767489e-01, -6.93379864e-02,  1.14185855e-01,\n",
              "       -4.04368877e-01, -3.31684351e-01, -8.66295546e-02, -1.24646552e-01,\n",
              "        7.44836271e-01, -2.19283178e-02, -4.08951397e-04,  1.75560027e-01,\n",
              "       -1.90897807e-01,  3.42947036e-01,  7.86231533e-02, -2.08058655e-01,\n",
              "       -1.67419732e-01, -1.06608002e-02, -1.13494895e-01,  1.59775868e-01,\n",
              "        1.70151785e-01,  3.09871197e-01, -5.06308258e-01, -6.04524791e-01,\n",
              "        3.88356298e-01,  9.36787203e-02, -4.59453613e-01, -3.06667298e-01,\n",
              "        4.39296551e-02,  1.93014815e-01,  1.89199284e-01,  6.49423838e-01,\n",
              "       -2.71532923e-01,  2.34774768e-01,  5.13136268e-01,  5.27243614e-01],\n",
              "      dtype=float32)"
            ]
          },
          "metadata": {
            "tags": []
          },
          "execution_count": 12
        }
      ]
    },
    {
      "cell_type": "code",
      "metadata": {
        "id": "jKzu3z1bc9vM",
        "colab_type": "code",
        "colab": {
          "base_uri": "https://localhost:8080/",
          "height": 68
        },
        "outputId": "0580ddcc-16a3-410a-eeca-540111ea1b8a"
      },
      "source": [
        "model['猫'].shape"
      ],
      "execution_count": 13,
      "outputs": [
        {
          "output_type": "stream",
          "text": [
            "/usr/local/lib/python3.6/dist-packages/ipykernel_launcher.py:1: DeprecationWarning: Call to deprecated `__getitem__` (Method will be removed in 4.0.0, use self.wv.__getitem__() instead).\n",
            "  \"\"\"Entry point for launching an IPython kernel.\n"
          ],
          "name": "stderr"
        },
        {
          "output_type": "execute_result",
          "data": {
            "text/plain": [
              "(100,)"
            ]
          },
          "metadata": {
            "tags": []
          },
          "execution_count": 13
        }
      ]
    },
    {
      "cell_type": "code",
      "metadata": {
        "id": "__TOQcNndDMr",
        "colab_type": "code",
        "colab": {
          "base_uri": "https://localhost:8080/",
          "height": 292
        },
        "outputId": "c80aae83-31b2-439d-fa28-344dcadee35f"
      },
      "source": [
        "model.most_similar('猫', topn = 10)"
      ],
      "execution_count": 14,
      "outputs": [
        {
          "output_type": "stream",
          "text": [
            "/usr/local/lib/python3.6/dist-packages/ipykernel_launcher.py:1: DeprecationWarning: Call to deprecated `most_similar` (Method will be removed in 4.0.0, use self.wv.most_similar() instead).\n",
            "  \"\"\"Entry point for launching an IPython kernel.\n",
            "2020-05-01 08:57:46,554 : INFO : precomputing L2-norms of word weight vectors\n",
            "/usr/local/lib/python3.6/dist-packages/gensim/matutils.py:737: FutureWarning: Conversion of the second argument of issubdtype from `int` to `np.signedinteger` is deprecated. In future, it will be treated as `np.int64 == np.dtype(int).type`.\n",
            "  if np.issubdtype(vec.dtype, np.int):\n"
          ],
          "name": "stderr"
        },
        {
          "output_type": "execute_result",
          "data": {
            "text/plain": [
              "[('キツネ', 0.7764444351196289),\n",
              " ('野良猫', 0.7380629777908325),\n",
              " ('ネズミ', 0.7361612319946289),\n",
              " ('ブタ', 0.7249397039413452),\n",
              " ('カバ', 0.7245045900344849),\n",
              " ('カナリア', 0.7172561883926392),\n",
              " ('ネコ', 0.7161194682121277),\n",
              " ('オオカミ', 0.7137703895568848),\n",
              " ('金魚', 0.7133695483207703),\n",
              " ('鼠', 0.7086310982704163)]"
            ]
          },
          "metadata": {
            "tags": []
          },
          "execution_count": 14
        }
      ]
    },
    {
      "cell_type": "code",
      "metadata": {
        "id": "cOPgTwqzdLuu",
        "colab_type": "code",
        "colab": {
          "base_uri": "https://localhost:8080/",
          "height": 275
        },
        "outputId": "62cdf9de-497e-419a-87c9-c2f9e3496df3"
      },
      "source": [
        "model.most_similar(positive=['ロンドン', '日本'], negative=['東京'], topn = 10)"
      ],
      "execution_count": 15,
      "outputs": [
        {
          "output_type": "stream",
          "text": [
            "/usr/local/lib/python3.6/dist-packages/ipykernel_launcher.py:1: DeprecationWarning: Call to deprecated `most_similar` (Method will be removed in 4.0.0, use self.wv.most_similar() instead).\n",
            "  \"\"\"Entry point for launching an IPython kernel.\n",
            "/usr/local/lib/python3.6/dist-packages/gensim/matutils.py:737: FutureWarning: Conversion of the second argument of issubdtype from `int` to `np.signedinteger` is deprecated. In future, it will be treated as `np.int64 == np.dtype(int).type`.\n",
            "  if np.issubdtype(vec.dtype, np.int):\n"
          ],
          "name": "stderr"
        },
        {
          "output_type": "execute_result",
          "data": {
            "text/plain": [
              "[('イギリス', 0.7678029537200928),\n",
              " ('アメリカ', 0.703992486000061),\n",
              " ('ヨーロッパ', 0.6953043937683105),\n",
              " ('オーストラリア', 0.6800905466079712),\n",
              " ('フランス', 0.6775314211845398),\n",
              " ('ベルギー', 0.6751310229301453),\n",
              " ('英国', 0.6701736450195312),\n",
              " ('オランダ', 0.6660892367362976),\n",
              " ('カナダ', 0.6593197584152222),\n",
              " ('米国', 0.657757043838501)]"
            ]
          },
          "metadata": {
            "tags": []
          },
          "execution_count": 15
        }
      ]
    },
    {
      "cell_type": "code",
      "metadata": {
        "id": "b5PJfRqXddTN",
        "colab_type": "code",
        "colab": {
          "base_uri": "https://localhost:8080/",
          "height": 122
        },
        "outputId": "007fcf07-1406-4c13-e786-8d444e897e8d"
      },
      "source": [
        "model.similarity('猫', '犬')"
      ],
      "execution_count": 16,
      "outputs": [
        {
          "output_type": "stream",
          "text": [
            "/usr/local/lib/python3.6/dist-packages/ipykernel_launcher.py:1: DeprecationWarning: Call to deprecated `similarity` (Method will be removed in 4.0.0, use self.wv.similarity() instead).\n",
            "  \"\"\"Entry point for launching an IPython kernel.\n",
            "/usr/local/lib/python3.6/dist-packages/gensim/matutils.py:737: FutureWarning: Conversion of the second argument of issubdtype from `int` to `np.signedinteger` is deprecated. In future, it will be treated as `np.int64 == np.dtype(int).type`.\n",
            "  if np.issubdtype(vec.dtype, np.int):\n"
          ],
          "name": "stderr"
        },
        {
          "output_type": "execute_result",
          "data": {
            "text/plain": [
              "0.61112255"
            ]
          },
          "metadata": {
            "tags": []
          },
          "execution_count": 16
        }
      ]
    },
    {
      "cell_type": "code",
      "metadata": {
        "id": "Ohw4OdH1dquA",
        "colab_type": "code",
        "colab": {
          "base_uri": "https://localhost:8080/",
          "height": 122
        },
        "outputId": "7257da50-3ad1-4836-8adb-27afbceb30ff"
      },
      "source": [
        "model.similarity('猫', '車')"
      ],
      "execution_count": 17,
      "outputs": [
        {
          "output_type": "stream",
          "text": [
            "/usr/local/lib/python3.6/dist-packages/ipykernel_launcher.py:1: DeprecationWarning: Call to deprecated `similarity` (Method will be removed in 4.0.0, use self.wv.similarity() instead).\n",
            "  \"\"\"Entry point for launching an IPython kernel.\n",
            "/usr/local/lib/python3.6/dist-packages/gensim/matutils.py:737: FutureWarning: Conversion of the second argument of issubdtype from `int` to `np.signedinteger` is deprecated. In future, it will be treated as `np.int64 == np.dtype(int).type`.\n",
            "  if np.issubdtype(vec.dtype, np.int):\n"
          ],
          "name": "stderr"
        },
        {
          "output_type": "execute_result",
          "data": {
            "text/plain": [
              "0.09645596"
            ]
          },
          "metadata": {
            "tags": []
          },
          "execution_count": 17
        }
      ]
    },
    {
      "cell_type": "code",
      "metadata": {
        "id": "TahLPB4AdvRA",
        "colab_type": "code",
        "colab": {
          "base_uri": "https://localhost:8080/",
          "height": 122
        },
        "outputId": "cedd14bc-5fde-4948-c808-cc51fe0e9920"
      },
      "source": [
        "model.similarity('セダン', '車')"
      ],
      "execution_count": 18,
      "outputs": [
        {
          "output_type": "stream",
          "text": [
            "/usr/local/lib/python3.6/dist-packages/ipykernel_launcher.py:1: DeprecationWarning: Call to deprecated `similarity` (Method will be removed in 4.0.0, use self.wv.similarity() instead).\n",
            "  \"\"\"Entry point for launching an IPython kernel.\n",
            "/usr/local/lib/python3.6/dist-packages/gensim/matutils.py:737: FutureWarning: Conversion of the second argument of issubdtype from `int` to `np.signedinteger` is deprecated. In future, it will be treated as `np.int64 == np.dtype(int).type`.\n",
            "  if np.issubdtype(vec.dtype, np.int):\n"
          ],
          "name": "stderr"
        },
        {
          "output_type": "execute_result",
          "data": {
            "text/plain": [
              "0.6900107"
            ]
          },
          "metadata": {
            "tags": []
          },
          "execution_count": 18
        }
      ]
    },
    {
      "cell_type": "code",
      "metadata": {
        "id": "w6044nWLd23Q",
        "colab_type": "code",
        "colab": {
          "base_uri": "https://localhost:8080/",
          "height": 204
        },
        "outputId": "c739c8f2-42de-41a7-cd1e-22da290586f3"
      },
      "source": [
        "!wget https://dl.fbaipublicfiles.com/fasttext/vectors-crawl/cc.ja.300.vec.gz"
      ],
      "execution_count": 21,
      "outputs": [
        {
          "output_type": "stream",
          "text": [
            "--2020-05-01 09:04:26--  https://dl.fbaipublicfiles.com/fasttext/vectors-crawl/cc.ja.300.vec.gz\n",
            "Resolving dl.fbaipublicfiles.com (dl.fbaipublicfiles.com)... 104.22.74.142, 104.22.75.142, 2606:4700:10::6816:4b8e, ...\n",
            "Connecting to dl.fbaipublicfiles.com (dl.fbaipublicfiles.com)|104.22.74.142|:443... connected.\n",
            "HTTP request sent, awaiting response... 200 OK\n",
            "Length: 1279641604 (1.2G) [binary/octet-stream]\n",
            "Saving to: ‘cc.ja.300.vec.gz’\n",
            "\n",
            "cc.ja.300.vec.gz    100%[===================>]   1.19G  26.3MB/s    in 47s     \n",
            "\n",
            "2020-05-01 09:05:14 (25.9 MB/s) - ‘cc.ja.300.vec.gz’ saved [1279641604/1279641604]\n",
            "\n"
          ],
          "name": "stdout"
        }
      ]
    },
    {
      "cell_type": "code",
      "metadata": {
        "id": "fN8yqwomecBM",
        "colab_type": "code",
        "colab": {
          "base_uri": "https://localhost:8080/",
          "height": 105
        },
        "outputId": "e9194746-ab5f-41bf-85b1-95688b1bc1f1"
      },
      "source": [
        "import gensim \n",
        "model = gensim.models.KeyedVectors.load_word2vec_format('cc.ja.300.vec.gz', binary = False)"
      ],
      "execution_count": 23,
      "outputs": [
        {
          "output_type": "stream",
          "text": [
            "2020-05-01 09:09:45,696 : INFO : loading projection weights from cc.ja.300.vec.gz\n",
            "/usr/local/lib/python3.6/dist-packages/smart_open/smart_open_lib.py:253: UserWarning: This function is deprecated, use smart_open.open instead. See the migration notes for details: https://github.com/RaRe-Technologies/smart_open/blob/master/README.rst#migrating-to-the-new-open-function\n",
            "  'See the migration notes for details: %s' % _MIGRATION_NOTES_URL\n",
            "2020-05-01 09:20:02,022 : INFO : loaded (2000000, 300) matrix from cc.ja.300.vec.gz\n"
          ],
          "name": "stderr"
        }
      ]
    },
    {
      "cell_type": "code",
      "metadata": {
        "id": "A7MaqmMzf3gt",
        "colab_type": "code",
        "colab": {
          "base_uri": "https://localhost:8080/",
          "height": 258
        },
        "outputId": "46cdde3e-4286-4d5d-9fab-4a6b619a28e7"
      },
      "source": [
        "model.most_similar('猫', topn=10)"
      ],
      "execution_count": 24,
      "outputs": [
        {
          "output_type": "stream",
          "text": [
            "2020-05-01 09:37:21,780 : INFO : precomputing L2-norms of word weight vectors\n",
            "/usr/local/lib/python3.6/dist-packages/gensim/matutils.py:737: FutureWarning: Conversion of the second argument of issubdtype from `int` to `np.signedinteger` is deprecated. In future, it will be treated as `np.int64 == np.dtype(int).type`.\n",
            "  if np.issubdtype(vec.dtype, np.int):\n"
          ],
          "name": "stderr"
        },
        {
          "output_type": "execute_result",
          "data": {
            "text/plain": [
              "[('ネコ', 0.8059155941009521),\n",
              " ('ねこ', 0.7272598147392273),\n",
              " ('子猫', 0.720253586769104),\n",
              " ('仔猫', 0.7062687873840332),\n",
              " ('ニャンコ', 0.7058036923408508),\n",
              " ('野良猫', 0.7030349969863892),\n",
              " ('犬', 0.6505385041236877),\n",
              " ('ミケ', 0.6356303691864014),\n",
              " ('野良ねこ', 0.6340526342391968),\n",
              " ('飼猫', 0.6265145540237427)]"
            ]
          },
          "metadata": {
            "tags": []
          },
          "execution_count": 24
        }
      ]
    },
    {
      "cell_type": "code",
      "metadata": {
        "id": "jT3DdOp7mPf4",
        "colab_type": "code",
        "colab": {
          "base_uri": "https://localhost:8080/",
          "height": 717
        },
        "outputId": "623e40ee-ee6f-47ab-b091-e5b0488e09bf"
      },
      "source": [
        "model.evaluate_word_pairs(datapath('wordsim353.tsv'))\n",
        "model.accuracy(datapath('questions-words.txt'))"
      ],
      "execution_count": 26,
      "outputs": [
        {
          "output_type": "stream",
          "text": [
            "/usr/local/lib/python3.6/dist-packages/smart_open/smart_open_lib.py:253: UserWarning: This function is deprecated, use smart_open.open instead. See the migration notes for details: https://github.com/RaRe-Technologies/smart_open/blob/master/README.rst#migrating-to-the-new-open-function\n",
            "  'See the migration notes for details: %s' % _MIGRATION_NOTES_URL\n",
            "/usr/local/lib/python3.6/dist-packages/gensim/matutils.py:737: FutureWarning: Conversion of the second argument of issubdtype from `int` to `np.signedinteger` is deprecated. In future, it will be treated as `np.int64 == np.dtype(int).type`.\n",
            "  if np.issubdtype(vec.dtype, np.int):\n",
            "2020-05-01 09:43:23,239 : INFO : Pearson correlation coefficient against /usr/local/lib/python3.6/dist-packages/gensim/test/test_data/wordsim353.tsv: 0.4770\n",
            "2020-05-01 09:43:23,240 : INFO : Spearman rank-order correlation coefficient against /usr/local/lib/python3.6/dist-packages/gensim/test/test_data/wordsim353.tsv: 0.4903\n",
            "2020-05-01 09:43:23,240 : INFO : Pairs with unknown words ratio: 11.9%\n",
            "/usr/local/lib/python3.6/dist-packages/ipykernel_launcher.py:2: DeprecationWarning: Call to deprecated `accuracy` (Method will be removed in 4.0.0, use self.evaluate_word_analogies() instead).\n",
            "  \n",
            "2020-05-01 09:43:23,304 : INFO : capital-common-countries: 50.0% (1/2)\n",
            "2020-05-01 09:43:23,336 : INFO : capital-world: 0.0% (0/1)\n",
            "2020-05-01 09:43:23,371 : INFO : family: 100.0% (2/2)\n",
            "2020-05-01 09:43:23,427 : INFO : total: 60.0% (3/5)\n"
          ],
          "name": "stderr"
        },
        {
          "output_type": "execute_result",
          "data": {
            "text/plain": [
              "[{'correct': [('TOKYO', 'JAPAN', 'PARIS', 'FRANCE')],\n",
              "  'incorrect': [('PARIS', 'FRANCE', 'TOKYO', 'JAPAN')],\n",
              "  'section': 'capital-common-countries'},\n",
              " {'correct': [],\n",
              "  'incorrect': [('PARIS', 'FRANCE', 'TOKYO', 'JAPAN')],\n",
              "  'section': 'capital-world'},\n",
              " {'correct': [], 'incorrect': [], 'section': 'currency'},\n",
              " {'correct': [], 'incorrect': [], 'section': 'city-in-state'},\n",
              " {'correct': [('BOY', 'GIRL', 'KING', 'QUEEN'),\n",
              "   ('KING', 'QUEEN', 'BOY', 'GIRL')],\n",
              "  'incorrect': [],\n",
              "  'section': 'family'},\n",
              " {'correct': [], 'incorrect': [], 'section': 'gram1-adjective-to-adverb'},\n",
              " {'correct': [], 'incorrect': [], 'section': 'gram2-opposite'},\n",
              " {'correct': [], 'incorrect': [], 'section': 'gram3-comparative'},\n",
              " {'correct': [], 'incorrect': [], 'section': 'gram4-superlative'},\n",
              " {'correct': [], 'incorrect': [], 'section': 'gram5-present-participle'},\n",
              " {'correct': [], 'incorrect': [], 'section': 'gram6-nationality-adjective'},\n",
              " {'correct': [], 'incorrect': [], 'section': 'gram7-past-tense'},\n",
              " {'correct': [], 'incorrect': [], 'section': 'gram8-plural'},\n",
              " {'correct': [], 'incorrect': [], 'section': 'gram9-plural-verbs'},\n",
              " {'correct': [('TOKYO', 'JAPAN', 'PARIS', 'FRANCE'),\n",
              "   ('BOY', 'GIRL', 'KING', 'QUEEN'),\n",
              "   ('KING', 'QUEEN', 'BOY', 'GIRL')],\n",
              "  'incorrect': [('PARIS', 'FRANCE', 'TOKYO', 'JAPAN'),\n",
              "   ('PARIS', 'FRANCE', 'TOKYO', 'JAPAN')],\n",
              "  'section': 'total'}]"
            ]
          },
          "metadata": {
            "tags": []
          },
          "execution_count": 26
        }
      ]
    },
    {
      "cell_type": "code",
      "metadata": {
        "id": "EHmDwPKfnnpO",
        "colab_type": "code",
        "colab": {}
      },
      "source": [
        ""
      ],
      "execution_count": 0,
      "outputs": []
    }
  ]
}