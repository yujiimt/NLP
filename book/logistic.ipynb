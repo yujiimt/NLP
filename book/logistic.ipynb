{
  "nbformat": 4,
  "nbformat_minor": 0,
  "metadata": {
    "colab": {
      "name": "logistic.ipynb",
      "provenance": [],
      "collapsed_sections": [],
      "authorship_tag": "ABX9TyPC2SFSa9OfZbuwORLCjo1a"
    },
    "kernelspec": {
      "name": "python3",
      "display_name": "Python 3"
    }
  },
  "cells": [
    {
      "cell_type": "code",
      "metadata": {
        "id": "cQP4iQ27NXUy",
        "colab_type": "code",
        "colab": {}
      },
      "source": [
        "import matplotlib.pyplot as plt\n",
        "import numpy as np\n",
        "\n",
        "%matplotlib inline"
      ],
      "execution_count": 0,
      "outputs": []
    },
    {
      "cell_type": "code",
      "metadata": {
        "id": "30PGW_Amlmo-",
        "colab_type": "code",
        "colab": {
          "base_uri": "https://localhost:8080/",
          "height": 204
        },
        "outputId": "affa424e-d5a0-42fc-e7de-ca80f811cb42"
      },
      "source": [
        "!wget https://s3.amazonaws.com/amazon-reviews-pds/tsv/amazon_reviews_multilingual_JP_v1_00.tsv.gz -P data/\n",
        "!gunzip -d data/amazon_reviews_multilingual_JP_v1_00.tsv.gz"
      ],
      "execution_count": 6,
      "outputs": [
        {
          "output_type": "stream",
          "text": [
            "--2020-04-30 05:36:53--  https://s3.amazonaws.com/amazon-reviews-pds/tsv/amazon_reviews_multilingual_JP_v1_00.tsv.gz\n",
            "Resolving s3.amazonaws.com (s3.amazonaws.com)... 52.216.85.53\n",
            "Connecting to s3.amazonaws.com (s3.amazonaws.com)|52.216.85.53|:443... connected.\n",
            "HTTP request sent, awaiting response... 200 OK\n",
            "Length: 94688992 (90M) [application/x-gzip]\n",
            "Saving to: ‘data/amazon_reviews_multilingual_JP_v1_00.tsv.gz’\n",
            "\n",
            "amazon_reviews_mult 100%[===================>]  90.30M  63.4MB/s    in 1.4s    \n",
            "\n",
            "2020-04-30 05:36:55 (63.4 MB/s) - ‘data/amazon_reviews_multilingual_JP_v1_00.tsv.gz’ saved [94688992/94688992]\n",
            "\n"
          ],
          "name": "stdout"
        }
      ]
    },
    {
      "cell_type": "code",
      "metadata": {
        "id": "_ApwDuFrRmjo",
        "colab_type": "code",
        "colab": {
          "base_uri": "https://localhost:8080/",
          "height": 279
        },
        "outputId": "2a599f72-d28e-4269-f8ee-b399df93ac63"
      },
      "source": [
        "x = np.arange(-10, 10, 0.1)\n",
        "f = 1 / (1 + np.exp(-x))\n",
        "\n",
        "plt.grid()\n",
        "plt.plot(x, f)\n",
        "plt.xlabel('x')\n",
        "plt.ylabel('f(x)')\n",
        "plt.show()"
      ],
      "execution_count": 5,
      "outputs": [
        {
          "output_type": "display_data",
          "data": {
            "image/png": "[encoded data removed]",
            "text/plain": [
              "<Figure size 432x288 with 1 Axes>"
            ]
          },
          "metadata": {
            "tags": [],
            "needs_background": "light"
          }
        }
      ]
    },
    {
      "cell_type": "code",
      "metadata": {
        "id": "tOvUqZ-xnRUA",
        "colab_type": "code",
        "colab": {
          "base_uri": "https://localhost:8080/",
          "height": 102
        },
        "outputId": "b253d3cb-5087-4df4-817a-f8887a6709a3"
      },
      "source": [
        "import string\n",
        "import pandas as pd\n",
        "!pip install janome\n",
        "from bs4 import BeautifulSoup\n",
        "from janome.tokenizer import Tokenizer\n",
        "\n",
        "t = Tokenizer(wakati = True)\n",
        "\n",
        "def filter_by_ascii_rate(text, threshold = 0.9):\n",
        "  ascii_letters = set(string.printable)\n",
        "  rate = sum(c in ascii_letters for c in text) / len(text)\n",
        "  return rate <= threshold\n",
        "\n",
        "\n",
        "def load_dataset(filename, n=5000, state = 6):\n",
        "  df = pd.read_csv(filename, sep = '\\t')\n",
        "\n",
        "  # マルチクラスに変更\n",
        "  mapping = {1: 0, 2: 0, 4: 1, 5: 1}\n",
        "  df = df[df.star_rating != 3]\n",
        "  df.star_rating = df.star_rating.map(mapping)\n",
        "\n",
        "  #日本語処理\n",
        "  is_jp = df.review_body.apply(filter_by_ascii_rate)\n",
        "  df = df[is_jp]\n",
        "\n",
        "  # sampling\n",
        "  df = df.sample(frac = 1, random_state = state)\n",
        "  grouped = df.groupby('star_rating')\n",
        "  df = grouped.head(n=n)\n",
        "  return df.review_body.values, df.star_rating.values\n",
        "def clean_html(html, strip = False):\n",
        "  soup = BeautifulSoup(html, 'html.parser')\n",
        "  text = soup.get_text(strip =  strip)\n",
        "  return text\n",
        "  \n",
        "def tokenize(text):\n",
        "  return t.tokenize(text)"
      ],
      "execution_count": 7,
      "outputs": [
        {
          "output_type": "stream",
          "text": [
            "Collecting janome\n",
            "\u001b[?25l  Downloading https://files.pythonhosted.org/packages/79/f0/bd7f90806132d7d9d642d418bdc3e870cfdff5947254ea3cab27480983a7/Janome-0.3.10-py2.py3-none-any.whl (21.5MB)\n",
            "\u001b[K     |████████████████████████████████| 21.5MB 1.6MB/s \n",
            "\u001b[?25hInstalling collected packages: janome\n",
            "Successfully installed janome-0.3.10\n"
          ],
          "name": "stdout"
        }
      ]
    },
    {
      "cell_type": "code",
      "metadata": {
        "id": "fPndZSTJ-TZV",
        "colab_type": "code",
        "colab": {}
      },
      "source": [
        "from sklearn.feature_extraction.text import TfidfVectorizer\n",
        "from sklearn.linear_model import LogisticRegression\n",
        "from sklearn.model_selection import train_test_split, cross_val_score, learning_curve\n",
        "from sklearn.metrics import accuracy_score"
      ],
      "execution_count": 0,
      "outputs": []
    },
    {
      "cell_type": "code",
      "metadata": {
        "id": "EI69LE3eRmaZ",
        "colab_type": "code",
        "colab": {
          "base_uri": "https://localhost:8080/",
          "height": 34
        },
        "outputId": "58d4be59-9ffd-44ba-da28-8ad8c5e92160"
      },
      "source": [
        "def main():\n",
        "  x, y = load_dataset(\"/content/data/amazon_reviews_multilingual_JP_v1_00.tsv\", n = 5000)\n",
        "  x = [clean_html(text, strip = True) for text in x]\n",
        "  x_train, x_test, y_train, y_test = train_test_split(x,y,test_size=0.2,random_state=42)\n",
        "\n",
        "\n",
        "  vectorizer = TfidfVectorizer(tokenizer = tokenize)\n",
        "  x_train_vec = vectorizer.fit_transform(x_train)\n",
        "  x_test_vec = vectorizer.transform(x_test)\n",
        "\n",
        "\n",
        "  clf = LogisticRegression(solver = 'liblinear')\n",
        "  clf.fit(x_train_vec, y_train)\n",
        "\n",
        "  y_pred = clf.predict(x_test_vec)\n",
        "  score = accuracy_score(y_test, y_pred)\n",
        "  print(\"Accuracy(test): {:.4f}\".format(score))\n",
        "\n",
        "if __name__ == \"__main__\":\n",
        "    main()"
      ],
      "execution_count": 8,
      "outputs": [
        {
          "output_type": "stream",
          "text": [
            "Accuracy(test): 0.8440\n"
          ],
          "name": "stdout"
        }
      ]
    },
    {
      "cell_type": "code",
      "metadata": {
        "id": "NoOD_0uQn2Rh",
        "colab_type": "code",
        "colab": {
          "base_uri": "https://localhost:8080/",
          "height": 68
        },
        "outputId": "3ec28f98-c807-4711-84d9-a8eee33dc109"
      },
      "source": [
        "from sklearn.feature_extraction.text import TfidfVectorizer\n",
        "from sklearn.linear_model import LogisticRegression\n",
        "from sklearn.model_selection import train_test_split, cross_val_score\n",
        "from sklearn.metrics import accuracy_score\n",
        "\n",
        "def main():\n",
        "  x, y = load_dataset(\"/content/data/amazon_reviews_multilingual_JP_v1_00.tsv\", n = 5000)\n",
        "  x = [clean_html(text, strip = True) for text in x]\n",
        "  x_train, x_test, y_train, y_test = train_test_split(x,y,test_size=0.2,random_state=42)\n",
        "\n",
        "\n",
        "  vectorizer = TfidfVectorizer(tokenizer = tokenize)\n",
        "  x_train_vec = vectorizer.fit_transform(x_train)\n",
        "  x_test_vec = vectorizer.transform(x_test)\n",
        "\n",
        "\n",
        "  clf = LogisticRegression(solver = 'liblinear')\n",
        "  scores = cross_val_score(clf, x_train_vec, y_train, cv = 5)\n",
        "  print(scores)\n",
        "  print(\"Accuraecy: {:.4f} (+/- {:.4f})\".format(scores.mean(), scores.std() * 2))\n",
        "\n",
        "  clf.fit(x_train_vec, y_train)\n",
        "  y_pred = clf.predict(x_test_vec)\n",
        "  score = accuracy_score(y_test, y_pred)\n",
        "  print(\"Accuracy(test): {:.4f}\".format(score))\n",
        "\n",
        "if __name__ == \"__main__\":\n",
        "    main()"
      ],
      "execution_count": 10,
      "outputs": [
        {
          "output_type": "stream",
          "text": [
            "[0.8175   0.83375  0.8225   0.8275   0.820625]\n",
            "Accuraecy: 0.8244 (+/- 0.0114)\n",
            "Accuracy(test): 0.8440\n"
          ],
          "name": "stdout"
        }
      ]
    },
    {
      "cell_type": "code",
      "metadata": {
        "id": "N3tk6CgkqIh2",
        "colab_type": "code",
        "colab": {}
      },
      "source": [
        "def plot_learning_curve(estimator, title, X, y, ylim = None, \n",
        "                        cv = None, n_jobs = -1, train_sizes = np.linspace(.1, 1.0, 5)):\n",
        "  plt.figure()\n",
        "  plt.title(title)\n",
        "  if ylim is not None:\n",
        "    plt.ylim(*ylim)\n",
        "  plt.xlabel('Training examples')\n",
        "  plt.ylabel(\"Score\")\n",
        "\n",
        "  train_sizes, train_scores, test_scores = learning_curve(\n",
        "      estimator, X, y, cv = cv, n_jobs = n_jobs, train_sizes = train_sizes)\n",
        "  train_scores_mean = np.mean(train_scores, axis = 1)\n",
        "  train_scores_std = np.std(train_scores, axis = 1)\n",
        "  test_scores_mean = np.mean(test_scores, axis = 1)\n",
        "  test_scores_std = np.std(test_scores, axis = 1)\n",
        "  plt.grid()\n",
        "\n",
        "\n",
        "  plt.fill_between(train_sizes, train_scores_mean - train_scores_std,\n",
        "                   train_scores_mean + train_scores_std, alpha = 0.1, color = 'r')\n",
        "  plt.fill_between(train_sizes, test_scores_mean - test_scores_std, \n",
        "                   test_scores_mean + test_scores_std, alpha = 0.1, color = 'g')\n",
        "  plt.plot(train_sizes, train_scores_mean, 'o-', color ='r',\n",
        "           label = 'Training score')\n",
        "  plt.plot(train_sizes, test_scores_mean, 'o-', color = 'g',\n",
        "           label = 'Cross-validation score')\n",
        "  plt.legend(loc = 'best')\n",
        "  plt.show()"
      ],
      "execution_count": 0,
      "outputs": []
    },
    {
      "cell_type": "code",
      "metadata": {
        "id": "Ya-HX3CaDiNk",
        "colab_type": "code",
        "colab": {
          "base_uri": "https://localhost:8080/",
          "height": 295
        },
        "outputId": "b1b17573-9f49-4f95-dd31-e4bd3f2c6c4d"
      },
      "source": [
        " from sklearn.model_selection import ShuffleSplit\n",
        " from sklearn.feature_extraction.text import TfidfVectorizer\n",
        " from sklearn.linear_model import LogisticRegression\n",
        " from sklearn.model_selection import train_test_split\n",
        "\n",
        " def main():\n",
        "  x, y = load_dataset(\"/content/data/amazon_reviews_multilingual_JP_v1_00.tsv\", n = 5000)\n",
        "  x = [clean_html(text, strip = True) for text in x]\n",
        "  x_train, x_test, y_train, y_test = train_test_split(x,y,test_size=0.2,random_state=42)\n",
        "\n",
        "\n",
        "  vectorizer = TfidfVectorizer(tokenizer = tokenize)\n",
        "  x_train_vec = vectorizer.fit_transform(x_train)\n",
        "  x_test_vec = vectorizer.transform(x_test)\n",
        "\n",
        "  title = 'Learning Curves'\n",
        "  cv = ShuffleSplit(n_splits = 5, test_size = 0.2, random_state = 0)\n",
        "  clf = LogisticRegression(solver='liblinear')\n",
        "  plot_learning_curve(clf, title, x_train_vec, y_train, cv=cv)\n",
        "\n",
        "if __name__ == '__main__':\n",
        "    main()"
      ],
      "execution_count": 23,
      "outputs": [
        {
          "output_type": "display_data",
          "data": {
            "image/png": "[encoded data removed]",
            "text/plain": [
              "<Figure size 432x288 with 1 Axes>"
            ]
          },
          "metadata": {
            "tags": [],
            "needs_background": "light"
          }
        }
      ]
    },
    {
      "cell_type": "code",
      "metadata": {
        "id": "iks8RHmxG4nM",
        "colab_type": "code",
        "colab": {}
      },
      "source": [
        ""
      ],
      "execution_count": 0,
      "outputs": []
    }
  ]
}